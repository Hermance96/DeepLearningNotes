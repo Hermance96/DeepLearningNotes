{
 "cells": [
  {
   "cell_type": "code",
   "execution_count": 1,
   "metadata": {},
   "outputs": [],
   "source": [
    "import numpy as np\n",
    "import matplotlib.pyplot as plt\n",
    "%matplotlib inline\n",
    "from keras import models\n",
    "from keras import layers\n",
    "\n",
    "from keras.datasets import reuters"
   ]
  },
  {
   "cell_type": "code",
   "execution_count": 2,
   "metadata": {},
   "outputs": [
    {
     "name": "stdout",
     "output_type": "stream",
     "text": [
      "Downloading data from https://s3.amazonaws.com/text-datasets/reuters.npz\n",
      "2113536/2110848 [==============================] - 1s 1us/step\n"
     ]
    }
   ],
   "source": [
    "(train_data, train_labels), (test_data, test_labels) = reuters.load_data(num_words=10000)"
   ]
  },
  {
   "cell_type": "code",
   "execution_count": 3,
   "metadata": {},
   "outputs": [
    {
     "name": "stdout",
     "output_type": "stream",
     "text": [
      "8982\n",
      "2246\n"
     ]
    }
   ],
   "source": [
    "print(len(train_data))\n",
    "print(len(test_data))"
   ]
  },
  {
   "cell_type": "code",
   "execution_count": 7,
   "metadata": {},
   "outputs": [],
   "source": [
    "def vectorize_seqs(seqs, dims=10000):\n",
    "    res = np.zeros((len(seqs), dims))\n",
    "    for i,s in enumerate(seqs):\n",
    "        res[i, s] = 1.\n",
    "    return res"
   ]
  },
  {
   "cell_type": "code",
   "execution_count": 9,
   "metadata": {},
   "outputs": [],
   "source": [
    "from keras.utils.np_utils import to_categorical\n",
    "train_x = vectorize_seqs(train_data)\n",
    "test_x = vectorize_seqs(test_data)\n",
    "\n",
    "train_y = to_categorical(train_labels)\n",
    "test_y = to_categorical(test_labels)"
   ]
  },
  {
   "cell_type": "code",
   "execution_count": 10,
   "metadata": {},
   "outputs": [
    {
     "name": "stdout",
     "output_type": "stream",
     "text": [
      "(8982, 10000)\n",
      "(2246, 10000)\n",
      "(8982, 46)\n",
      "(2246, 46)\n"
     ]
    }
   ],
   "source": [
    "print(train_x.shape)\n",
    "print(test_x.shape)\n",
    "print(train_y.shape)\n",
    "print(test_y.shape)"
   ]
  },
  {
   "cell_type": "code",
   "execution_count": 12,
   "metadata": {},
   "outputs": [],
   "source": [
    "model = models.Sequential()\n",
    "model.add(layers.Dense(64, activation='relu'))\n",
    "model.add(layers.Dense(64, activation='relu'))\n",
    "model.add(layers.Dense(46, activation='softmax'))"
   ]
  },
  {
   "cell_type": "code",
   "execution_count": 13,
   "metadata": {},
   "outputs": [],
   "source": [
    "model.compile(optimizer='rmsprop',\n",
    "             loss='categorical_crossentropy',\n",
    "             metrics=['accuracy'])"
   ]
  },
  {
   "cell_type": "code",
   "execution_count": 14,
   "metadata": {},
   "outputs": [],
   "source": [
    "valid_x = train_x[:1000]\n",
    "partial_train_x = train_x[1000:]\n",
    "\n",
    "valid_y = train_y[:1000]\n",
    "partial_train_y = train_y[1000:]"
   ]
  },
  {
   "cell_type": "code",
   "execution_count": 15,
   "metadata": {},
   "outputs": [
    {
     "name": "stdout",
     "output_type": "stream",
     "text": [
      "WARNING:tensorflow:From /Users/liuxuanchi/anaconda3/lib/python3.7/site-packages/tensorflow/python/ops/math_ops.py:3066: to_int32 (from tensorflow.python.ops.math_ops) is deprecated and will be removed in a future version.\n",
      "Instructions for updating:\n",
      "Use tf.cast instead.\n",
      "Train on 7982 samples, validate on 1000 samples\n",
      "Epoch 1/20\n",
      "7982/7982 [==============================] - 2s 266us/step - loss: 2.4985 - acc: 0.4915 - val_loss: 1.6833 - val_acc: 0.6440\n",
      "Epoch 2/20\n",
      "7982/7982 [==============================] - 1s 180us/step - loss: 1.3941 - acc: 0.7043 - val_loss: 1.2824 - val_acc: 0.7160\n",
      "Epoch 3/20\n",
      "7982/7982 [==============================] - 1s 171us/step - loss: 1.0493 - acc: 0.7696 - val_loss: 1.1190 - val_acc: 0.7630\n",
      "Epoch 4/20\n",
      "7982/7982 [==============================] - 1s 144us/step - loss: 0.8244 - acc: 0.8280 - val_loss: 1.0248 - val_acc: 0.7730\n",
      "Epoch 5/20\n",
      "7982/7982 [==============================] - 1s 146us/step - loss: 0.6599 - acc: 0.8638 - val_loss: 0.9738 - val_acc: 0.7930\n",
      "Epoch 6/20\n",
      "7982/7982 [==============================] - 1s 144us/step - loss: 0.5251 - acc: 0.8929 - val_loss: 0.9215 - val_acc: 0.8100\n",
      "Epoch 7/20\n",
      "7982/7982 [==============================] - 1s 153us/step - loss: 0.4291 - acc: 0.9110 - val_loss: 0.9144 - val_acc: 0.8030\n",
      "Epoch 8/20\n",
      "7982/7982 [==============================] - 1s 168us/step - loss: 0.3496 - acc: 0.9276 - val_loss: 0.8965 - val_acc: 0.8170\n",
      "Epoch 9/20\n",
      "7982/7982 [==============================] - 1s 148us/step - loss: 0.2896 - acc: 0.9385 - val_loss: 0.9162 - val_acc: 0.8050\n",
      "Epoch 10/20\n",
      "7982/7982 [==============================] - 1s 146us/step - loss: 0.2449 - acc: 0.9449 - val_loss: 0.9158 - val_acc: 0.8100\n",
      "Epoch 11/20\n",
      "7982/7982 [==============================] - 1s 170us/step - loss: 0.2105 - acc: 0.9485 - val_loss: 0.9493 - val_acc: 0.8130\n",
      "Epoch 12/20\n",
      "7982/7982 [==============================] - 1s 157us/step - loss: 0.1884 - acc: 0.9521 - val_loss: 0.9641 - val_acc: 0.8050\n",
      "Epoch 13/20\n",
      "7982/7982 [==============================] - 1s 147us/step - loss: 0.1658 - acc: 0.9523 - val_loss: 0.9989 - val_acc: 0.7950\n",
      "Epoch 14/20\n",
      "7982/7982 [==============================] - 1s 147us/step - loss: 0.1537 - acc: 0.9543 - val_loss: 0.9782 - val_acc: 0.8040\n",
      "Epoch 15/20\n",
      "7982/7982 [==============================] - 1s 160us/step - loss: 0.1459 - acc: 0.9550 - val_loss: 1.0254 - val_acc: 0.7960\n",
      "Epoch 16/20\n",
      "7982/7982 [==============================] - 1s 147us/step - loss: 0.1335 - acc: 0.9553 - val_loss: 1.0420 - val_acc: 0.8010\n",
      "Epoch 17/20\n",
      "7982/7982 [==============================] - 1s 148us/step - loss: 0.1263 - acc: 0.9558 - val_loss: 1.0468 - val_acc: 0.7950\n",
      "Epoch 18/20\n",
      "7982/7982 [==============================] - 1s 165us/step - loss: 0.1174 - acc: 0.9559 - val_loss: 1.0418 - val_acc: 0.8150\n",
      "Epoch 19/20\n",
      "7982/7982 [==============================] - 1s 167us/step - loss: 0.1168 - acc: 0.9567 - val_loss: 1.0321 - val_acc: 0.8060\n",
      "Epoch 20/20\n",
      "7982/7982 [==============================] - 1s 160us/step - loss: 0.1142 - acc: 0.9583 - val_loss: 1.0493 - val_acc: 0.8040\n"
     ]
    }
   ],
   "source": [
    "history = model.fit(partial_train_x, partial_train_y, \n",
    "          epochs=20, \n",
    "          batch_size=512, \n",
    "          validation_data=(valid_x, valid_y))"
   ]
  },
  {
   "cell_type": "code",
   "execution_count": 17,
   "metadata": {},
   "outputs": [
    {
     "data": {
      "image/png": "[encoded data removed]",
      "text/plain": [
       "<Figure size 1440x432 with 2 Axes>"
      ]
     },
     "metadata": {
      "needs_background": "light"
     },
     "output_type": "display_data"
    }
   ],
   "source": [
    "history_dict = history.history\n",
    "\n",
    "loss_vals = history_dict['loss']\n",
    "valid_loss_vals = history_dict['val_loss']\n",
    "acc_vals = history_dict['acc']\n",
    "valid_acc_vals = history_dict['val_acc']\n",
    "\n",
    "epochs = range(1, len(loss_vals)+1)\n",
    "\n",
    "plt.figure(figsize=(20, 6))\n",
    "\n",
    "plt.subplot(1, 2, 1)\n",
    "plt.plot(epochs, loss_vals, 'bo', label='Training loss')\n",
    "plt.plot(epochs, valid_loss_vals, 'b', label='Validation loss')\n",
    "plt.title('Training and validation loss')\n",
    "plt.xlabel('Epochs')\n",
    "plt.ylabel('Loss')\n",
    "plt.legend()\n",
    "\n",
    "plt.subplot(1, 2, 2)\n",
    "plt.plot(epochs, acc_vals, 'bo', label='Training accuracy')\n",
    "plt.plot(epochs, valid_acc_vals, 'b', label='Validation accuracy')\n",
    "plt.title('Training and validation accuracy')\n",
    "plt.xlabel('Epochs')\n",
    "plt.ylabel('Accuracy')\n",
    "plt.legend()\n",
    "\n",
    "plt.show()"
   ]
  },
  {
   "cell_type": "code",
   "execution_count": 18,
   "metadata": {},
   "outputs": [
    {
     "name": "stdout",
     "output_type": "stream",
     "text": [
      "Train on 7982 samples, validate on 1000 samples\n",
      "Epoch 1/9\n",
      "7982/7982 [==============================] - 1s 175us/step - loss: 2.5398 - acc: 0.5226 - val_loss: 1.6733 - val_acc: 0.6570\n",
      "Epoch 2/9\n",
      "7982/7982 [==============================] - 1s 153us/step - loss: 1.3712 - acc: 0.7121 - val_loss: 1.2758 - val_acc: 0.7210\n",
      "Epoch 3/9\n",
      "7982/7982 [==============================] - 1s 141us/step - loss: 1.0136 - acc: 0.7781 - val_loss: 1.1303 - val_acc: 0.7530\n",
      "Epoch 4/9\n",
      "7982/7982 [==============================] - 1s 184us/step - loss: 0.7976 - acc: 0.8251 - val_loss: 1.0539 - val_acc: 0.7590\n",
      "Epoch 5/9\n",
      "7982/7982 [==============================] - 1s 183us/step - loss: 0.6393 - acc: 0.8624 - val_loss: 0.9754 - val_acc: 0.7920\n",
      "Epoch 6/9\n",
      "7982/7982 [==============================] - 1s 167us/step - loss: 0.5124 - acc: 0.8921 - val_loss: 0.9102 - val_acc: 0.8140\n",
      "Epoch 7/9\n",
      "7982/7982 [==============================] - 1s 153us/step - loss: 0.4124 - acc: 0.9137 - val_loss: 0.8932 - val_acc: 0.8210\n",
      "Epoch 8/9\n",
      "7982/7982 [==============================] - 1s 151us/step - loss: 0.3355 - acc: 0.9290 - val_loss: 0.8732 - val_acc: 0.8260\n",
      "Epoch 9/9\n",
      "7982/7982 [==============================] - 1s 136us/step - loss: 0.2782 - acc: 0.9371 - val_loss: 0.9338 - val_acc: 0.8000\n",
      "2246/2246 [==============================] - 0s 164us/step\n"
     ]
    }
   ],
   "source": [
    "model = models.Sequential()\n",
    "model.add(layers.Dense(64, activation='relu'))\n",
    "model.add(layers.Dense(64, activation='relu'))\n",
    "model.add(layers.Dense(46, activation='softmax'))\n",
    "\n",
    "model.compile(optimizer='rmsprop',\n",
    "             loss='categorical_crossentropy',\n",
    "             metrics=['accuracy'])\n",
    "\n",
    "model.fit(partial_train_x, partial_train_y, \n",
    "          epochs=9, \n",
    "          batch_size=512, \n",
    "          validation_data=(valid_x, valid_y))\n",
    "\n",
    "result = model.evaluate(test_x, test_y)"
   ]
  },
  {
   "cell_type": "code",
   "execution_count": 19,
   "metadata": {},
   "outputs": [
    {
     "data": {
      "text/plain": [
       "[1.0224982713442876, 0.7756010686194165]"
      ]
     },
     "execution_count": 19,
     "metadata": {},
     "output_type": "execute_result"
    }
   ],
   "source": [
    "result"
   ]
  },
  {
   "cell_type": "code",
   "execution_count": 20,
   "metadata": {},
   "outputs": [
    {
     "name": "stdout",
     "output_type": "stream",
     "text": [
      "0.9999999\n",
      "3\n"
     ]
    }
   ],
   "source": [
    "preds = model.predict(test_x)\n",
    "print(np.sum(preds[0]))\n",
    "print(np.argmax(preds[0]))"
   ]
  }
 ],
 "metadata": {
  "kernelspec": {
   "display_name": "Python 3",
   "language": "python",
   "name": "python3"
  },
  "language_info": {
   "codemirror_mode": {
    "name": "ipython",
    "version": 3
   },
   "file_extension": ".py",
   "mimetype": "text/x-python",
   "name": "python",
   "nbconvert_exporter": "python",
   "pygments_lexer": "ipython3",
   "version": "3.5.6"
  }
 },
 "nbformat": 4,
 "nbformat_minor": 2
}
