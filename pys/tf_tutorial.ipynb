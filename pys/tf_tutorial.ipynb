{
 "cells": [
  {
   "cell_type": "code",
   "execution_count": 1,
   "metadata": {},
   "outputs": [],
   "source": [
    "import numpy as np\n",
    "import math\n",
    "import h5py\n",
    "import matplotlib.pyplot as plt\n",
    "%matplotlib inline\n",
    "import tensorflow as tf\n",
    "from tensorflow.python.framework import ops\n",
    "from tf_utils import load_dataset, random_mini_batches, convert_to_one_hot, predict\n",
    "\n",
    "np.random.seed(1)"
   ]
  },
  {
   "cell_type": "code",
   "execution_count": 19,
   "metadata": {},
   "outputs": [
    {
     "name": "stdout",
     "output_type": "stream",
     "text": [
      "0.0\n"
     ]
    }
   ],
   "source": [
    "coeffs = np.array([[1.], [-20.], [100.]])\n",
    "\n",
    "w = tf.Variable(0, dtype=tf.float32)\n",
    "x = tf.placeholder(tf.float32, [3, 1])\n",
    "\n",
    "# cost = tf.add(tf.add(w**2, tf.multiply(-10, w)), 25)\n",
    "# cost = w**2 - 10*w + 25\n",
    "cost = x[0][0]*w**2 + x[1][0]*w + x[2][0]\n",
    "\n",
    "# train = tf.train.GradientDescentOptimizer(0.01).minimize(cost)\n",
    "train = tf.train.GradientDescentOptimizer(learning_rate=0.01).minimize(loss=cost)\n",
    "\n",
    "init = tf.global_variables_initializer()\n",
    "session = tf.Session()\n",
    "session.run(init)\n",
    "\n",
    "print(session.run(w))"
   ]
  },
  {
   "cell_type": "code",
   "execution_count": 21,
   "metadata": {},
   "outputs": [
    {
     "name": "stdout",
     "output_type": "stream",
     "text": [
      "9.999977\n"
     ]
    }
   ],
   "source": [
    "for i in range(1000):\n",
    "    session.run(train, feed_dict={x: coeffs})\n",
    "\n",
    "print(session.run(w))"
   ]
  },
  {
   "cell_type": "markdown",
   "metadata": {},
   "source": [
    "# Tensorflow Library"
   ]
  },
  {
   "cell_type": "code",
   "execution_count": 3,
   "metadata": {},
   "outputs": [
    {
     "name": "stdout",
     "output_type": "stream",
     "text": [
      "WARNING:tensorflow:From /Users/liuxuanchi/anaconda3/envs/jyy/lib/python3.5/site-packages/tensorflow/python/framework/op_def_library.py:263: colocate_with (from tensorflow.python.framework.ops) is deprecated and will be removed in a future version.\n",
      "Instructions for updating:\n",
      "Colocations handled automatically by placer.\n",
      "9\n"
     ]
    }
   ],
   "source": [
    "y_hat = tf.constant(36, name='y_hat')\n",
    "y = tf.constant(39, name='y')\n",
    "\n",
    "loss = tf.Variable((y_hat-y)**2, name='loss')\n",
    "\n",
    "init = tf.global_variables_initializer()\n",
    "with tf.Session() as session:\n",
    "    session.run(init)\n",
    "    print(session.run(loss))"
   ]
  },
  {
   "cell_type": "code",
   "execution_count": 6,
   "metadata": {},
   "outputs": [
    {
     "name": "stdout",
     "output_type": "stream",
     "text": [
      "Tensor(\"Mul_2:0\", shape=(), dtype=int32)\n"
     ]
    }
   ],
   "source": [
    "# put in the computation graph\n",
    "a = tf.constant(2)\n",
    "b = tf.constant(3)\n",
    "c = tf.multiply(a, b)\n",
    "print(c)"
   ]
  },
  {
   "cell_type": "code",
   "execution_count": 7,
   "metadata": {},
   "outputs": [
    {
     "data": {
      "text/plain": [
       "6"
      ]
     },
     "execution_count": 7,
     "metadata": {},
     "output_type": "execute_result"
    }
   ],
   "source": [
    "# compute inside session\n",
    "sess = tf.Session()\n",
    "sess.run(c)"
   ]
  },
  {
   "cell_type": "code",
   "execution_count": 8,
   "metadata": {},
   "outputs": [
    {
     "name": "stdout",
     "output_type": "stream",
     "text": [
      "10\n"
     ]
    }
   ],
   "source": [
    "x = tf.placeholder(tf.int64, name='x')\n",
    "print(sess.run(2*x, feed_dict={x: 5}))\n",
    "sess.close()"
   ]
  },
  {
   "cell_type": "markdown",
   "metadata": {},
   "source": [
    "## 1.1 Linear Function"
   ]
  },
  {
   "cell_type": "code",
   "execution_count": 9,
   "metadata": {},
   "outputs": [],
   "source": [
    "def linear_function():\n",
    "    # 初始化\n",
    "    np.random.seed(1)\n",
    "    X = tf.constant(np.random.randn(3, 1), name='X')\n",
    "    W = tf.constant(np.random.randn(4, 3), name='W')\n",
    "    b = tf.constant(np.random.randn(4, 1), name='b')\n",
    "    Y = tf.add(tf.matmul(W, X), b)\n",
    "    \n",
    "    # 创建session\n",
    "    sess = tf.Session()\n",
    "    result = sess.run(Y)\n",
    "    \n",
    "    sess.close()\n",
    "    \n",
    "    return result"
   ]
  },
  {
   "cell_type": "code",
   "execution_count": 10,
   "metadata": {},
   "outputs": [
    {
     "name": "stdout",
     "output_type": "stream",
     "text": [
      "result = [[-2.15657382]\n",
      " [ 2.95891446]\n",
      " [-1.08926781]\n",
      " [-0.84538042]]\n"
     ]
    }
   ],
   "source": [
    "print(\"result = \" + str(linear_function()))"
   ]
  },
  {
   "cell_type": "markdown",
   "metadata": {},
   "source": [
    "## 1.2 Sigmoid"
   ]
  },
  {
   "cell_type": "code",
   "execution_count": 11,
   "metadata": {},
   "outputs": [],
   "source": [
    "def sigmoid(z):\n",
    "    x = tf.placeholder(tf.float32, name='x')\n",
    "    sig = tf.sigmoid(x)\n",
    "    with tf.Session() as sess:\n",
    "        res = sess.run(sig, feed_dict={x: z})\n",
    "    return res"
   ]
  },
  {
   "cell_type": "code",
   "execution_count": 12,
   "metadata": {},
   "outputs": [
    {
     "name": "stdout",
     "output_type": "stream",
     "text": [
      "sigmoid(0): 0.5\n",
      "sigmoid(12): 0.9999938\n"
     ]
    }
   ],
   "source": [
    "print(\"sigmoid(0): \"+str(sigmoid(0)))\n",
    "print(\"sigmoid(12): \"+str(sigmoid(12)))"
   ]
  },
  {
   "cell_type": "markdown",
   "metadata": {},
   "source": [
    "##  1.3 Cost"
   ]
  },
  {
   "cell_type": "code",
   "execution_count": 16,
   "metadata": {},
   "outputs": [],
   "source": [
    "def cost(logits, labels):\n",
    "    z = tf.placeholder(tf.float32, name='z')\n",
    "    y = tf.placeholder(tf.float32, name='y')\n",
    "    \n",
    "    cost = tf.nn.sigmoid_cross_entropy_with_logits(logits=z, labels=y)\n",
    "    \n",
    "    with tf.Session() as sess:\n",
    "        cost = sess.run(cost, feed_dict={z: logits, y:labels})\n",
    "    \n",
    "    return cost"
   ]
  },
  {
   "cell_type": "code",
   "execution_count": 17,
   "metadata": {},
   "outputs": [
    {
     "name": "stdout",
     "output_type": "stream",
     "text": [
      "cost = [1.0053872  1.0366409  0.41385433 0.39956614]\n"
     ]
    }
   ],
   "source": [
    "logits = sigmoid(np.array([0.2, 0.4, 0.7, 0.9]))\n",
    "cost = cost(logits, np.array([0, 0, 1, 1]))\n",
    "print(\"cost = \" + str(cost))"
   ]
  },
  {
   "cell_type": "markdown",
   "metadata": {},
   "source": [
    "## 1.4 One-hot encoding"
   ]
  },
  {
   "cell_type": "code",
   "execution_count": 20,
   "metadata": {},
   "outputs": [],
   "source": [
    "def one_hot_mat(labels, C):\n",
    "    C = tf.constant(C, name='C')\n",
    "    matrix = tf.one_hot(labels, C, axis=0)\n",
    "    \n",
    "    with tf.Session() as sess:\n",
    "        onehot = sess.run(matrix)\n",
    "        \n",
    "    return onehot"
   ]
  },
  {
   "cell_type": "code",
   "execution_count": 21,
   "metadata": {
    "scrolled": true
   },
   "outputs": [
    {
     "name": "stdout",
     "output_type": "stream",
     "text": [
      "one hot matrix: [[0. 0. 0. 1. 0. 0.]\n",
      " [1. 0. 0. 0. 0. 1.]\n",
      " [0. 1. 0. 0. 1. 0.]\n",
      " [0. 0. 1. 0. 0. 0.]]\n"
     ]
    }
   ],
   "source": [
    "labels = np.array([1,2,3,0,2,1])\n",
    "onehot = one_hot_mat(labels, C=4)\n",
    "print(\"one hot matrix: \" + str(onehot))"
   ]
  },
  {
   "cell_type": "markdown",
   "metadata": {},
   "source": [
    "## 1.5 Initilazation"
   ]
  },
  {
   "cell_type": "code",
   "execution_count": 22,
   "metadata": {},
   "outputs": [],
   "source": [
    "def ones(shape):\n",
    "    ones = tf.ones(shape)\n",
    "    \n",
    "    with tf.Session() as sess:\n",
    "        ones = sess.run(ones)\n",
    "    \n",
    "    return ones"
   ]
  },
  {
   "cell_type": "code",
   "execution_count": 24,
   "metadata": {},
   "outputs": [
    {
     "name": "stdout",
     "output_type": "stream",
     "text": [
      "ones init: [[1. 1.]\n",
      " [1. 1.]\n",
      " [1. 1.]]\n"
     ]
    }
   ],
   "source": [
    "print(\"ones init: \"+ str(ones([3, 2])))"
   ]
  },
  {
   "cell_type": "markdown",
   "metadata": {},
   "source": [
    "# 2. Build NN with tf"
   ]
  },
  {
   "cell_type": "markdown",
   "metadata": {},
   "source": [
    "## 2.1 数据处理"
   ]
  },
  {
   "cell_type": "markdown",
   "metadata": {},
   "source": [
    "- 加载数据集train_signs, test_signs，识别手比划的数字0到5\n",
    "- x_train_org, (1080, 64, 64, 3)，共180\\*6个样本，每张照片宽和高为64，3个通道\n",
    "- y_train_org, (1, 1080), 每个训练集的样本对应1个结果，数字0到5\n",
    "- x_test_org, (120, 64, 64, 3)，共20\\*6个样本\n",
    "- y_test_org, (1, 120)"
   ]
  },
  {
   "cell_type": "code",
   "execution_count": 25,
   "metadata": {},
   "outputs": [],
   "source": [
    "x_train_org, y_train_org, x_test_org, y_test_org, classes = load_dataset()"
   ]
  },
  {
   "cell_type": "code",
   "execution_count": 26,
   "metadata": {},
   "outputs": [
    {
     "name": "stdout",
     "output_type": "stream",
     "text": [
      "y = 5\n"
     ]
    },
    {
     "data": {
      "image/png": "[encoded data removed]",
      "text/plain": [
       "<Figure size 432x288 with 1 Axes>"
      ]
     },
     "metadata": {
      "needs_background": "light"
     },
     "output_type": "display_data"
    }
   ],
   "source": [
    "plt.imshow(x_train_org[0])\n",
    "print(\"y = \"+str(np.squeeze(y_train_org[:,0])))"
   ]
  },
  {
   "cell_type": "markdown",
   "metadata": {},
   "source": [
    "- 展开x_train_org，得到 (64\\*64\\*3, 1080)\n",
    "- 对y采用one-hot编码，每列的1个数，扩充为6行，y_train (6, 1080)\n",
    "- 同样的方法处理测试集"
   ]
  },
  {
   "cell_type": "code",
   "execution_count": 27,
   "metadata": {},
   "outputs": [],
   "source": [
    "# reshape()中的-1表示填写计算得出的默认值\n",
    "x_train_flatten = x_train_org.reshape(x_train_org.shape[0], -1).T\n",
    "x_test_flatten = x_test_org.reshape(x_test_org.shape[0], -1).T\n",
    "\n",
    "x_train = x_train_flatten / 255.\n",
    "x_test = x_test_flatten / 255.\n",
    "\n",
    "y_train = convert_to_one_hot(y_train_org, 6)\n",
    "y_test = convert_to_one_hot(y_test_org, 6)"
   ]
  },
  {
   "cell_type": "code",
   "execution_count": 29,
   "metadata": {},
   "outputs": [
    {
     "data": {
      "text/plain": [
       "(1080, 64, 64, 3)"
      ]
     },
     "execution_count": 29,
     "metadata": {},
     "output_type": "execute_result"
    }
   ],
   "source": [
    "x_train_org.shape"
   ]
  },
  {
   "cell_type": "code",
   "execution_count": 30,
   "metadata": {},
   "outputs": [
    {
     "data": {
      "text/plain": [
       "(1, 1080)"
      ]
     },
     "execution_count": 30,
     "metadata": {},
     "output_type": "execute_result"
    }
   ],
   "source": [
    "y_train_org.shape"
   ]
  },
  {
   "cell_type": "code",
   "execution_count": 28,
   "metadata": {
    "scrolled": false
   },
   "outputs": [
    {
     "name": "stdout",
     "output_type": "stream",
     "text": [
      "training set size: 1080\n",
      "test set size: 120\n",
      "x_train: (12288, 1080)\n",
      "y_train: (6, 1080)\n",
      "x_test: (12288, 120)\n",
      "y_test: (6, 120)\n"
     ]
    }
   ],
   "source": [
    "print(\"training set size: \"+str(x_train.shape[1]))\n",
    "print(\"test set size: \"+str(x_test.shape[1]))\n",
    "print(\"x_train: \"+str(x_train.shape))\n",
    "print(\"y_train: \"+str(y_train.shape))\n",
    "print(\"x_test: \"+str(x_test.shape))\n",
    "print(\"y_test: \"+str(y_test.shape))"
   ]
  },
  {
   "cell_type": "markdown",
   "metadata": {},
   "source": [
    "## 2.2 初始化"
   ]
  },
  {
   "cell_type": "markdown",
   "metadata": {},
   "source": [
    "根据传入的维度创建占位符 X, Y"
   ]
  },
  {
   "cell_type": "code",
   "execution_count": 31,
   "metadata": {},
   "outputs": [],
   "source": [
    "def create_placeholders(nx, ny):\n",
    "    # nx是图片一阶向量的维度，size*size*3\n",
    "    # ny是总类别数，6\n",
    "    X = tf.placeholder(tf.float32, shape=[nx, None], name='X')\n",
    "    Y = tf.placeholder(tf.float32, shape=[ny, None], name='Y')\n",
    "    \n",
    "    return X, Y"
   ]
  },
  {
   "cell_type": "code",
   "execution_count": 32,
   "metadata": {},
   "outputs": [
    {
     "name": "stdout",
     "output_type": "stream",
     "text": [
      "X = Tensor(\"X_6:0\", shape=(12288, ?), dtype=float32)\n",
      "Y = Tensor(\"Y_2:0\", shape=(6, ?), dtype=float32)\n"
     ]
    }
   ],
   "source": [
    "X, Y = create_placeholders(12288, 6)\n",
    "print(\"X = \" + str(X))\n",
    "print(\"Y = \" + str(Y))"
   ]
  },
  {
   "cell_type": "markdown",
   "metadata": {},
   "source": [
    "初始化参数：  \n",
    "这里选择的是一个3层网络，所以需要对 W1, W2, W3随机初始化，对b1, b2, b3赋值为0初始化"
   ]
  },
  {
   "cell_type": "code",
   "execution_count": 35,
   "metadata": {},
   "outputs": [],
   "source": [
    "def initialize_parameters():\n",
    "    tf.set_random_seed(1)\n",
    "    W1 = tf.get_variable('W1', [25, 12288], initializer=tf.contrib.layers.xavier_initializer(seed = 1))\n",
    "    W2 = tf.get_variable('W2', [12, 25], initializer=tf.contrib.layers.xavier_initializer(seed = 1))\n",
    "    W3 = tf.get_variable('W3', [6, 12], initializer=tf.contrib.layers.xavier_initializer(seed = 1))\n",
    "    b1 = tf.get_variable('b1', [25, 1], initializer=tf.zeros_initializer())\n",
    "    b2 = tf.get_variable('b2', [12, 1], initializer=tf.zeros_initializer())\n",
    "    b3 = tf.get_variable('b3', [6, 1], initializer=tf.zeros_initializer())\n",
    "    \n",
    "    params = {'W1': W1,\n",
    "             'b1': b1,\n",
    "             'W2': W2,\n",
    "             'b2': b2,\n",
    "             'W3': W3,\n",
    "             'b3': b3}\n",
    "    \n",
    "    return params"
   ]
  },
  {
   "cell_type": "code",
   "execution_count": 36,
   "metadata": {
    "scrolled": true
   },
   "outputs": [
    {
     "name": "stdout",
     "output_type": "stream",
     "text": [
      "W2 = <tf.Variable 'W2:0' shape=(12, 25) dtype=float32_ref>\n",
      "b2 = <tf.Variable 'b2:0' shape=(12, 1) dtype=float32_ref>\n"
     ]
    }
   ],
   "source": [
    "# 用于清除图形堆栈，并重置全局默认图形\n",
    "tf.reset_default_graph()\n",
    "\n",
    "with tf.Session() as sess:\n",
    "    params = initialize_parameters()\n",
    "    print('W2 = '+ str(params['W2']))\n",
    "    print('b2 = '+ str(params['b2']))"
   ]
  },
  {
   "cell_type": "markdown",
   "metadata": {},
   "source": [
    "## 2.3 前向传播"
   ]
  },
  {
   "cell_type": "markdown",
   "metadata": {},
   "source": [
    "用tf的函数计算前向传播"
   ]
  },
  {
   "cell_type": "code",
   "execution_count": 38,
   "metadata": {},
   "outputs": [],
   "source": [
    "def forward_propagation(X, params):\n",
    "    W1 = params['W1']\n",
    "    W2 = params['W2']\n",
    "    W3 = params['W3']\n",
    "    b1 = params['b1']\n",
    "    b2 = params['b2']\n",
    "    b3 = params['b3']\n",
    "    \n",
    "    Z1 = tf.add(tf.matmul(W1, X), b1)\n",
    "    A1 = tf.nn.relu(Z1)\n",
    "    Z2 = tf.add(tf.matmul(W2, A1), b2)\n",
    "    A2 = tf.nn.relu(Z2)\n",
    "    Z3 = tf.add(tf.matmul(W3, A2), b3)\n",
    "    \n",
    "    return Z3"
   ]
  },
  {
   "cell_type": "code",
   "execution_count": 39,
   "metadata": {},
   "outputs": [
    {
     "name": "stdout",
     "output_type": "stream",
     "text": [
      "Z3 = Tensor(\"Add_2:0\", shape=(6, ?), dtype=float32)\n"
     ]
    }
   ],
   "source": [
    "tf.reset_default_graph()\n",
    "\n",
    "with tf.Session() as sess:\n",
    "    X, Y = create_placeholders(12288, 6)\n",
    "    params = initialize_parameters()\n",
    "    Z3 = forward_propagation(X, params)\n",
    "    print(\"Z3 = \" + str(Z3))"
   ]
  },
  {
   "cell_type": "markdown",
   "metadata": {},
   "source": [
    "计算损失函数"
   ]
  },
  {
   "cell_type": "code",
   "execution_count": 40,
   "metadata": {},
   "outputs": [],
   "source": [
    "def compute_cost(Z3, Y):\n",
    "    # logits & labels: (#examples, classes)\n",
    "    logits = tf.transpose(Z3)\n",
    "    labels = tf.transpose(Y)\n",
    "    \n",
    "    cost = tf.reduce_mean(tf.nn.sigmoid_cross_entropy_with_logits(logits=logits, labels=labels))\n",
    "    \n",
    "    return cost"
   ]
  },
  {
   "cell_type": "code",
   "execution_count": 41,
   "metadata": {},
   "outputs": [
    {
     "name": "stdout",
     "output_type": "stream",
     "text": [
      "Tensor(\"Mean:0\", shape=(), dtype=float32)\n"
     ]
    }
   ],
   "source": [
    "tf.reset_default_graph()\n",
    "\n",
    "with tf.Session() as sess:\n",
    "    X, Y = create_placeholders(12288, 6)\n",
    "    params = initialize_parameters()\n",
    "    Z3 = forward_propagation(X, params)\n",
    "    cost = compute_cost(Z3, Y)\n",
    "    print(cost)"
   ]
  },
  {
   "cell_type": "markdown",
   "metadata": {},
   "source": [
    "注意到在tf框架中，创建一个 optimizer 对象，然后在session中运行，就可以自动计算后向传播，进行参数更新"
   ]
  },
  {
   "cell_type": "markdown",
   "metadata": {},
   "source": [
    "## 2.4 建立模型"
   ]
  },
  {
   "cell_type": "code",
   "execution_count": 45,
   "metadata": {},
   "outputs": [],
   "source": [
    "def model(x_train, y_train, x_test, y_test, learning_rate=0.0001, epochs=1500, batch_size=32, print_cost=True):\n",
    "    ops.reset_default_graph()\n",
    "    tf.set_random_seed(1)\n",
    "    seed = 3\n",
    "    (nx, m) = x_train.shape\n",
    "    ny = y_train.shape[0]\n",
    "    costs = []\n",
    "    \n",
    "    # initialize\n",
    "    X, Y = create_placeholders(nx, ny)\n",
    "    params = initialize_parameters()\n",
    "    # fp\n",
    "    Z3 = forward_propagation(X, params)\n",
    "    # cost function\n",
    "    cost = compute_cost(Z3, Y)\n",
    "    # bp\n",
    "    optimizer = tf.train.AdamOptimizer(learning_rate=learning_rate).minimize(cost)\n",
    "    \n",
    "    init = tf.global_variables_initializer()\n",
    "    with tf.Session() as sess:\n",
    "        sess.run(init)\n",
    "        for ep in range(epochs):\n",
    "            ep_cost = 0.\n",
    "            num_batches = (int)(m/batch_size)\n",
    "            seed += 1\n",
    "            minibatches = random_mini_batches(x_train, y_train, batch_size, seed)\n",
    "            for batch in minibatches:\n",
    "                (batch_x, batch_y) = batch\n",
    "                _, batch_cost = sess.run([optimizer, cost], feed_dict={X:batch_x, Y:batch_y})\n",
    "                ep_cost += batch_cost / num_batches\n",
    "            \n",
    "            if ep % 5 == 0:\n",
    "                costs.append(ep_cost)\n",
    "            if print_cost==True and ep%100==0:\n",
    "                print(\"cost after %i epoch is %f\" % (ep, ep_cost))\n",
    "        \n",
    "        plt.plot(np.squeeze(costs))\n",
    "        plt.ylabel('Cost')\n",
    "        plt.xlabel('iterations')\n",
    "        plt.title('Learning_rate = ' + str(learning_rate))\n",
    "        plt.show()\n",
    "        \n",
    "        # save the params\n",
    "        params = sess.run(params)\n",
    "        print(\"Parametres have been traiend\")\n",
    "        \n",
    "        # argmax返回矩阵每行最大值的索引号\n",
    "        corrects = tf.equal(tf.argmax(Z3), tf.argmax(Y))\n",
    "        # cast进行数据类型转换\n",
    "        acc = tf.reduce_mean(tf.cast(corrects, \"float\"))\n",
    "        \n",
    "        print(\"Train acc: \", acc.eval({X: x_train, Y: y_train}))\n",
    "        print(\"Test acc: \", acc.eval({X: x_test, Y: y_test}))\n",
    "        \n",
    "        return params"
   ]
  },
  {
   "cell_type": "code",
   "execution_count": 46,
   "metadata": {},
   "outputs": [
    {
     "name": "stdout",
     "output_type": "stream",
     "text": [
      "cost after 0 epoch is 0.506822\n",
      "cost after 100 epoch is 0.271969\n",
      "cost after 200 epoch is 0.199863\n",
      "cost after 300 epoch is 0.145746\n",
      "cost after 400 epoch is 0.098215\n",
      "cost after 500 epoch is 0.062497\n",
      "cost after 600 epoch is 0.039951\n",
      "cost after 700 epoch is 0.025633\n",
      "cost after 800 epoch is 0.014569\n",
      "cost after 900 epoch is 0.008272\n",
      "cost after 1000 epoch is 0.004550\n",
      "cost after 1100 epoch is 0.002599\n",
      "cost after 1200 epoch is 0.001160\n",
      "cost after 1300 epoch is 0.001002\n",
      "cost after 1400 epoch is 0.000675\n"
     ]
    },
    {
     "data": {
      "image/png": "[encoded data removed]",
      "text/plain": [
       "<Figure size 432x288 with 1 Axes>"
      ]
     },
     "metadata": {
      "needs_background": "light"
     },
     "output_type": "display_data"
    },
    {
     "name": "stdout",
     "output_type": "stream",
     "text": [
      "Parametres have been traiend\n",
      "Train acc:  1.0\n",
      "Test acc:  0.85833335\n"
     ]
    }
   ],
   "source": [
    "params = model(x_train, y_train, x_test, y_test)"
   ]
  }
 ],
 "metadata": {
  "kernelspec": {
   "display_name": "Python 3",
   "language": "python",
   "name": "python3"
  },
  "language_info": {
   "codemirror_mode": {
    "name": "ipython",
    "version": 3
   },
   "file_extension": ".py",
   "mimetype": "text/x-python",
   "name": "python",
   "nbconvert_exporter": "python",
   "pygments_lexer": "ipython3",
   "version": "3.5.6"
  }
 },
 "nbformat": 4,
 "nbformat_minor": 2
}
