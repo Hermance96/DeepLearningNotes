{
 "cells": [
  {
   "cell_type": "code",
   "execution_count": 2,
   "metadata": {},
   "outputs": [],
   "source": [
    "import numpy as np\n",
    "import h5py\n",
    "import matplotlib.pyplot as plt\n",
    "import scipy\n",
    "from PIL import Image\n",
    "from scipy import ndimage\n",
    "# from testCases_v3 import *\n",
    "# from dnn_utils_v2 import sigmoid, sigmoid_backward, relu, relu_backward\n",
    "from dnn_app_utils_v2 import *\n",
    "\n",
    "%matplotlib inline\n",
    "plt.rcParams['figure.figsize'] = (5.0, 4.0)\n",
    "plt.rcParams['image.interpolation'] = 'nearest'\n",
    "plt.rcParams['image.cmap'] = 'gray'\n",
    "\n",
    "%load_ext autoreload\n",
    "%autoreload 2"
   ]
  },
  {
   "cell_type": "code",
   "execution_count": 2,
   "metadata": {},
   "outputs": [],
   "source": [
    "# 初始化一个2层网络：input layer[nx] + hidden layer[nh] + ouput layer[ny]\n",
    "def initialize_parameters(nx, nh, ny):\n",
    "    # random initialisation\n",
    "    W1 = np.random.randn(nh, nx)*0.01\n",
    "    b1 = np.zeros((nh, 1))\n",
    "    W2 = np.random.randn(ny, nh)*0.01\n",
    "    b2 = np.zeros((ny, 1))\n",
    "    \n",
    "    params = {\n",
    "        \"W1\": W1,\n",
    "        \"b1\": b1,\n",
    "        \"W2\": W2,\n",
    "        \"b2\": b2\n",
    "    }\n",
    "    return params"
   ]
  },
  {
   "cell_type": "code",
   "execution_count": 3,
   "metadata": {},
   "outputs": [
    {
     "name": "stdout",
     "output_type": "stream",
     "text": [
      "{'W1': array([[-0.01461078,  0.00511223],\n",
      "       [-0.01118106,  0.00574969]]), 'b1': array([[0.],\n",
      "       [0.]]), 'W2': array([[0.00591343, 0.00537128]]), 'b2': array([[0.]])}\n"
     ]
    }
   ],
   "source": [
    "params = initialize_parameters(2, 2, 1)\n",
    "print(params)"
   ]
  },
  {
   "cell_type": "code",
   "execution_count": 30,
   "metadata": {},
   "outputs": [],
   "source": [
    "def initialize_parameters_deep(layer_dims):\n",
    "    np.random.seed(3)\n",
    "    params = {}\n",
    "    L = len(layer_dims)\n",
    "    \n",
    "    for l in range(1, L):\n",
    "        params[\"W\"+str(l)] = np.random.randn(layer_dims[l], layer_dims[l-1]) * 0.01\n",
    "        params[\"b\"+str(l)] = np.zeros((layer_dims[l], 1))\n",
    "        \n",
    "    return params"
   ]
  },
  {
   "cell_type": "code",
   "execution_count": 31,
   "metadata": {},
   "outputs": [
    {
     "name": "stdout",
     "output_type": "stream",
     "text": [
      "{'W1': array([[ 0.01788628,  0.0043651 ,  0.00096497],\n",
      "       [-0.01863493, -0.00277388, -0.00354759]]), 'b1': array([[0.],\n",
      "       [0.]]), 'W2': array([[-0.00082741, -0.00627001],\n",
      "       [-0.00043818, -0.00477218]]), 'b2': array([[0.],\n",
      "       [0.]]), 'W3': array([[-0.01313865,  0.00884622]]), 'b3': array([[0.]])}\n"
     ]
    }
   ],
   "source": [
    "params = initialize_parameters_deep([3, 2, 2, 1])\n",
    "print(params)"
   ]
  },
  {
   "cell_type": "markdown",
   "metadata": {},
   "source": [
    "## 正向传播"
   ]
  },
  {
   "cell_type": "code",
   "execution_count": 32,
   "metadata": {},
   "outputs": [],
   "source": [
    "# Z[l] = W[l]A[l-1] + b[l]\n",
    "def linear_forward(A, W, b):\n",
    "    Z = np.dot(W, A) + b\n",
    "    \n",
    "    cache = (A, W, b)\n",
    "    return Z, cache"
   ]
  },
  {
   "cell_type": "code",
   "execution_count": 33,
   "metadata": {},
   "outputs": [
    {
     "name": "stdout",
     "output_type": "stream",
     "text": [
      "[[ 3.26295337 -1.23429987]]\n"
     ]
    }
   ],
   "source": [
    "A, W, b = linear_forward_test_case()\n",
    "\n",
    "Z, cache = linear_forward(A, W, b)\n",
    "print(Z)"
   ]
  },
  {
   "cell_type": "code",
   "execution_count": 34,
   "metadata": {},
   "outputs": [],
   "source": [
    "# A[l] = g[l](Z[l])\n",
    "def linear_activation_forward(A_prev, W, b, act):\n",
    "    if act == \"sigmoid\":\n",
    "        Z, lnr_cache = linear_forward(A_prev, W, b)\n",
    "        A, act_cache = sigmoid(Z)\n",
    "    elif act == \"relu\":\n",
    "        Z, lnr_cache = linear_forward(A_prev, W, b)\n",
    "        A, act_cache = relu(Z)\n",
    "    \n",
    "    # cache: A_prev, W, b, Z\n",
    "    cache = (lnr_cache, act_cache)\n",
    "    return A, cache"
   ]
  },
  {
   "cell_type": "code",
   "execution_count": 35,
   "metadata": {},
   "outputs": [
    {
     "name": "stdout",
     "output_type": "stream",
     "text": [
      "sigmoid A=[[0.96890023 0.11013289]]\n",
      "relu A=[[3.43896131 0.        ]]\n"
     ]
    }
   ],
   "source": [
    "A_prev, W, b = linear_activation_forward_test_case()\n",
    "A, cache = linear_activation_forward(A_prev, W, b, act=\"sigmoid\")\n",
    "print(\"sigmoid A=\"+str(A))\n",
    "A, cache = linear_activation_forward(A_prev, W, b, act=\"relu\")\n",
    "print(\"relu A=\"+str(A))"
   ]
  },
  {
   "cell_type": "code",
   "execution_count": 36,
   "metadata": {},
   "outputs": [],
   "source": [
    "def model_forward(X, params):\n",
    "    caches = []\n",
    "    A = X\n",
    "    L = len(params) // 2\n",
    "    \n",
    "    for l in range(1, L):\n",
    "        A_prev = A\n",
    "        W = params[\"W\"+str(l)]\n",
    "        b = params[\"b\"+str(l)]\n",
    "        A, cache = linear_activation_forward(A_prev, W, b, act=\"relu\")\n",
    "        caches.append(cache)\n",
    "    \n",
    "    AL, cache = linear_activation_forward(A, params[\"W\"+str(L)], params[\"b\"+str(L)], act=\"sigmoid\")\n",
    "    caches.append(cache)\n",
    "    \n",
    "    return AL, caches"
   ]
  },
  {
   "cell_type": "code",
   "execution_count": 37,
   "metadata": {},
   "outputs": [
    {
     "name": "stdout",
     "output_type": "stream",
     "text": [
      "AL = [[0.17007265 0.2524272 ]]\n",
      "caches length: 2\n"
     ]
    }
   ],
   "source": [
    "X, params = L_model_forward_test_case()\n",
    "AL, caches = model_forward(X, params)\n",
    "print(\"AL = \"+str(AL))\n",
    "print(\"caches length: \"+str(len(caches)))"
   ]
  },
  {
   "cell_type": "markdown",
   "metadata": {},
   "source": [
    "# 反向传播"
   ]
  },
  {
   "cell_type": "code",
   "execution_count": 40,
   "metadata": {},
   "outputs": [],
   "source": [
    "def linear_backward(dZ, cache):\n",
    "    A_prev, W, b = cache\n",
    "    m = A_prev.shape[1]\n",
    "    \n",
    "    dW = 1/m * np.dot(dZ, A_prev.T)\n",
    "    db = 1/m * np.sum(dZ, axis=1, keepdims=True)\n",
    "    dA_prev = np.dot(W.T, dZ)\n",
    "    \n",
    "    return dA_prev, dW, db"
   ]
  },
  {
   "cell_type": "code",
   "execution_count": 41,
   "metadata": {},
   "outputs": [
    {
     "name": "stdout",
     "output_type": "stream",
     "text": [
      "[[ 0.51822968 -0.19517421]\n",
      " [-0.40506361  0.15255393]\n",
      " [ 2.37496825 -0.89445391]], [[-0.10076895  1.40685096  1.64992505]], [[0.50629448]]\n"
     ]
    }
   ],
   "source": [
    "dZ, cache = linear_backward_test_case()\n",
    "dA_prev, dW, db = linear_backward(dZ, cache)\n",
    "print(str(dA_prev)+\", \"+str(dW)+\", \"+str(db))"
   ]
  },
  {
   "cell_type": "code",
   "execution_count": 44,
   "metadata": {},
   "outputs": [],
   "source": [
    "def linear_activation_backward(dA, cache, act):\n",
    "    lnr_cache, act_cache = cache\n",
    "    \n",
    "    if act==\"relu\":\n",
    "        dZ = relu_backward(dA, act_cache)\n",
    "        dA_prev, dW, db = linear_backward(dZ, lnr_cache)\n",
    "    elif act==\"sigmoid\":\n",
    "        dZ = sigmoid_backward(dA, act_cache)\n",
    "        dA_prev, dW, db = linear_backward(dZ, lnr_cache)\n",
    "    \n",
    "    return dA_prev, dW, db"
   ]
  },
  {
   "cell_type": "code",
   "execution_count": 45,
   "metadata": {},
   "outputs": [
    {
     "name": "stdout",
     "output_type": "stream",
     "text": [
      "[sigmoid] dA_prev: [[ 0.11017994  0.01105339]\n",
      " [ 0.09466817  0.00949723]\n",
      " [-0.05743092 -0.00576154]], dW: [[ 0.10266786  0.09778551 -0.01968084]], db: [[-0.05729622]]\n",
      "[relu] dA_prev: [[ 0.44090989 -0.        ]\n",
      " [ 0.37883606 -0.        ]\n",
      " [-0.2298228   0.        ]], dW: [[ 0.44513824  0.37371418 -0.10478989]], db: [[-0.20837892]]\n"
     ]
    }
   ],
   "source": [
    "AL, lnr_cache = linear_activation_backward_test_case()\n",
    "\n",
    "dA_prev, dW, db = linear_activation_backward(AL, lnr_cache, \"sigmoid\")\n",
    "print(\"[sigmoid] dA_prev: \"+str(dA_prev)+\", dW: \"+str(dW)+\", db: \"+str(db))\n",
    "\n",
    "dA_prev, dW, db = linear_activation_backward(AL, lnr_cache, \"relu\")\n",
    "print(\"[relu] dA_prev: \"+str(dA_prev)+\", dW: \"+str(dW)+\", db: \"+str(db))"
   ]
  },
  {
   "cell_type": "code",
   "execution_count": 46,
   "metadata": {},
   "outputs": [],
   "source": [
    "def model_backward(AL, Y, caches):\n",
    "    grads = {}\n",
    "    L = len(caches)\n",
    "    m = AL.shape[1]\n",
    "    Y = Y.reshape(AL.shape)\n",
    "    \n",
    "    # loss func, I = -(yloga + (1-y)*log(1-a))\n",
    "    dAL = -np.divide(Y, AL) + np.divide(1-Y, 1-AL)\n",
    "    \n",
    "    cache = caches[L-1]\n",
    "    grads[\"dA\"+str(L)], grads[\"dW\"+str(L)], grads[\"db\"+str(L)] = linear_activation_backward(dAL, cache, act=\"sigmoid\")\n",
    "    \n",
    "    for l in reversed(range(L-1)):\n",
    "        # 第l+1层，在caches中索引为l\n",
    "        cache  = caches[l]\n",
    "        dA_prev, dW, db = linear_activation_backward(grads[\"dA\"+str(l+2)], cache, act=\"relu\")\n",
    "        grads[\"dA\"+str(l+1)] = dA_prev\n",
    "        grads[\"dW\"+str(l+1)] = dW\n",
    "        grads[\"db\"+str(l+1)] = db\n",
    "    \n",
    "    return grads"
   ]
  },
  {
   "cell_type": "code",
   "execution_count": 47,
   "metadata": {},
   "outputs": [
    {
     "name": "stdout",
     "output_type": "stream",
     "text": [
      "[[ 0.          0.52257901]\n",
      " [ 0.         -0.3269206 ]\n",
      " [ 0.         -0.32070404]\n",
      " [ 0.         -0.74079187]], [[0.41010002 0.07807203 0.13798444 0.10502167]\n",
      " [0.         0.         0.         0.        ]\n",
      " [0.05283652 0.01005865 0.01777766 0.0135308 ]], [[-0.22007063]\n",
      " [ 0.        ]\n",
      " [-0.02835349]]\n"
     ]
    }
   ],
   "source": [
    "AL, Y, caches = L_model_backward_test_case()\n",
    "grads = model_backward(AL, Y, caches)\n",
    "print(str(grads[\"dA1\"]) + \", \" + str(grads[\"dW1\"]) +\", \"+ str(grads[\"db1\"]))"
   ]
  },
  {
   "cell_type": "markdown",
   "metadata": {},
   "source": [
    "# 参数更新"
   ]
  },
  {
   "cell_type": "code",
   "execution_count": 38,
   "metadata": {},
   "outputs": [],
   "source": [
    "def compute_cost_func(AL, Y):\n",
    "    m = AL.shape[1]\n",
    "    cost = -1/m * np.sum((Y*np.log(AL) + (1-Y)*np.log(1-AL)), axis=1, keepdims=True)\n",
    "    cost = np.squeeze(cost)\n",
    "    return cost"
   ]
  },
  {
   "cell_type": "code",
   "execution_count": 39,
   "metadata": {},
   "outputs": [
    {
     "name": "stdout",
     "output_type": "stream",
     "text": [
      "0.41493159961539694\n"
     ]
    }
   ],
   "source": [
    "Y, AL = compute_cost_test_case()\n",
    "cost = compute_cost_func(AL, Y)\n",
    "print(cost)"
   ]
  },
  {
   "cell_type": "code",
   "execution_count": 48,
   "metadata": {},
   "outputs": [],
   "source": [
    "def update_params(params, grads, learning_rate):\n",
    "    L = len(params)//2\n",
    "    for l in range(L):\n",
    "        params[\"W\"+str(l+1)] = params[\"W\"+str(l+1)] - learning_rate * grads[\"dW\"+str(l+1)]\n",
    "        params[\"b\"+str(l+1)] = params[\"b\"+str(l+1)] - learning_rate * grads[\"db\"+str(l+1)]\n",
    "        \n",
    "    return params"
   ]
  },
  {
   "cell_type": "code",
   "execution_count": 49,
   "metadata": {},
   "outputs": [
    {
     "name": "stdout",
     "output_type": "stream",
     "text": [
      "W1: [[-0.59562069 -0.09991781 -2.14584584  1.82662008]\n",
      " [-1.76569676 -0.80627147  0.51115557 -1.18258802]\n",
      " [-1.0535704  -0.86128581  0.68284052  2.20374577]]; b1: [[-0.04659241]\n",
      " [-1.28888275]\n",
      " [ 0.53405496]]; W2: [[-0.55569196  0.0354055   1.32964895]]; b2: [[-0.84610769]]\n"
     ]
    }
   ],
   "source": [
    "params, grads = update_parameters_test_case()\n",
    "params = update_params(params, grads, learning_rate=0.1)\n",
    "print(\"W1: \" + str(params[\"W1\"]) + \"; b1: \" + str(params[\"b1\"]) + \"; W2: \" + str(params[\"W2\"]) + \"; b2: \" + str(params[\"b2\"]))"
   ]
  },
  {
   "cell_type": "markdown",
   "metadata": {},
   "source": [
    "# 加载数据"
   ]
  },
  {
   "cell_type": "code",
   "execution_count": 3,
   "metadata": {},
   "outputs": [],
   "source": [
    "# from lr_utils import load_dataset\n",
    "train_x_orig, train_y, test_x_orig, test_y, classes = load_data()"
   ]
  },
  {
   "cell_type": "code",
   "execution_count": 4,
   "metadata": {},
   "outputs": [
    {
     "name": "stdout",
     "output_type": "stream",
     "text": [
      "y = 1. It's a cat picture.\n"
     ]
    },
    {
     "data": {
      "image/png": "[encoded data removed]",
      "text/plain": [
       "<Figure size 360x288 with 1 Axes>"
      ]
     },
     "metadata": {
      "needs_background": "light"
     },
     "output_type": "display_data"
    }
   ],
   "source": [
    "plt.imshow(train_x_orig[7])\n",
    "print(\"y = \" + str(train_y[0, 7]) + \". It's a \" + classes[train_y[0, 7]].decode(\"utf-8\") + \" picture.\")"
   ]
  },
  {
   "cell_type": "code",
   "execution_count": 5,
   "metadata": {},
   "outputs": [
    {
     "name": "stdout",
     "output_type": "stream",
     "text": [
      "Training set size: 209\n",
      "Test set size: 50\n",
      "Image size: (64, 64, 3)\n"
     ]
    }
   ],
   "source": [
    "m_train = train_x_orig.shape[0]\n",
    "num_px = train_x_orig.shape[1]\n",
    "m_test = test_x_orig.shape[0]\n",
    "\n",
    "print(\"Training set size: \"+str(m_train))\n",
    "print(\"Test set size: \"+str(m_test))\n",
    "print(\"Image size: (\"+str(num_px)+\", \"+str(num_px)+\", 3)\")"
   ]
  },
  {
   "cell_type": "code",
   "execution_count": 6,
   "metadata": {},
   "outputs": [
    {
     "name": "stdout",
     "output_type": "stream",
     "text": [
      "train set size: x, (12288, 209); y: (1, 209)\n",
      "test set size: (12288, 50); y: (1, 50)\n"
     ]
    }
   ],
   "source": [
    "# 展平数组(n, n, 3) -> (n*n*3, 1)\n",
    "train_x_flatten = train_x_orig.reshape(train_x_orig.shape[0], -1).T\n",
    "test_x_flatten = test_x_orig.reshape(test_x_orig.shape[0], -1).T\n",
    "train_x = train_x_flatten / 255.\n",
    "test_x = test_x_flatten / 255.\n",
    "print(\"train set size: x, \"+str(train_x.shape)+\"; y: \"+str(train_y.shape))\n",
    "print(\"test set size: \"+str(test_x.shape)+\"; y: \"+str(test_y.shape))"
   ]
  },
  {
   "cell_type": "markdown",
   "metadata": {},
   "source": [
    "# 构建模型"
   ]
  },
  {
   "cell_type": "code",
   "execution_count": 7,
   "metadata": {},
   "outputs": [],
   "source": [
    "# input+4层模型，各层参数如下\n",
    "layer_dims = [12288, 20, 7, 5, 1]"
   ]
  },
  {
   "cell_type": "code",
   "execution_count": 8,
   "metadata": {},
   "outputs": [],
   "source": [
    "def L_layer_model(X, Y, layer_dims, learning_rate=0.0075, iterations=3000, print_cost=False):\n",
    "    np.random.seed(1)\n",
    "    costs = []\n",
    "    params = initialize_parameters_deep(layer_dims)\n",
    "    \n",
    "    for i in range(0, iterations):\n",
    "        # FP\n",
    "        AL, caches = L_model_forward(X, params)\n",
    "        cost = compute_cost(AL, Y)\n",
    "        # BP\n",
    "        grads = L_model_backward(AL, Y, caches)\n",
    "        # update params\n",
    "        params = update_parameters(params, grads, learning_rate)\n",
    "        \n",
    "        if print_cost and i%100==0:\n",
    "            costs.append(cost)\n",
    "            print(\"cost after %i iterations is %f\" % (i, cost))\n",
    "    \n",
    "    # plot costs\n",
    "    plt.plot(np.squeeze(costs))\n",
    "    plt.ylabel(\"cost\")\n",
    "    plt.xlabel(\"iterations per 100\")\n",
    "    plt.title(\"learning_rate is \"+str(learning_rate))\n",
    "    plt.show()\n",
    "    \n",
    "    return params"
   ]
  },
  {
   "cell_type": "code",
   "execution_count": 9,
   "metadata": {},
   "outputs": [
    {
     "name": "stdout",
     "output_type": "stream",
     "text": [
      "cost after 0 iterations is 0.771749\n",
      "cost after 100 iterations is 0.672053\n",
      "cost after 200 iterations is 0.648263\n",
      "cost after 300 iterations is 0.611507\n",
      "cost after 400 iterations is 0.567047\n",
      "cost after 500 iterations is 0.540138\n",
      "cost after 600 iterations is 0.527930\n",
      "cost after 700 iterations is 0.465477\n",
      "cost after 800 iterations is 0.369126\n",
      "cost after 900 iterations is 0.391747\n",
      "cost after 1000 iterations is 0.315187\n",
      "cost after 1100 iterations is 0.272700\n",
      "cost after 1200 iterations is 0.237419\n",
      "cost after 1300 iterations is 0.199601\n",
      "cost after 1400 iterations is 0.189263\n",
      "cost after 1500 iterations is 0.161189\n",
      "cost after 1600 iterations is 0.148214\n",
      "cost after 1700 iterations is 0.137775\n",
      "cost after 1800 iterations is 0.129740\n",
      "cost after 1900 iterations is 0.121225\n",
      "cost after 2000 iterations is 0.113821\n",
      "cost after 2100 iterations is 0.107839\n",
      "cost after 2200 iterations is 0.102855\n",
      "cost after 2300 iterations is 0.100897\n",
      "cost after 2400 iterations is 0.092878\n"
     ]
    },
    {
     "data": {
      "image/png": "[encoded data removed]",
      "text/plain": [
       "<Figure size 360x288 with 1 Axes>"
      ]
     },
     "metadata": {
      "needs_background": "light"
     },
     "output_type": "display_data"
    }
   ],
   "source": [
    "parameters = L_layer_model(train_x, train_y, layer_dims, learning_rate=0.0075, iterations=2500, print_cost=True)"
   ]
  },
  {
   "cell_type": "code",
   "execution_count": 66,
   "metadata": {},
   "outputs": [],
   "source": [
    "def predict(X, Y, params):\n",
    "    m = X.shape[1]\n",
    "    n = len(params) // 2\n",
    "    p = np.zeros((1, m))\n",
    "    \n",
    "    AL, cache = model_forward(X, params)\n",
    "    for i in range(0, AL.shape[1]):\n",
    "        if AL[0][i] > 0.5:\n",
    "            p[0][i] = 1\n",
    "        else:\n",
    "            p[0][i] = 0\n",
    "    \n",
    "    print(\"Accuracy: \" + str(np.sum((p == Y)/m)))\n",
    "    return p"
   ]
  },
  {
   "cell_type": "code",
   "execution_count": 13,
   "metadata": {},
   "outputs": [
    {
     "name": "stdout",
     "output_type": "stream",
     "text": [
      "Accuracy: 0.9856459330143539\n",
      "Accuracy: 0.8\n"
     ]
    }
   ],
   "source": [
    "pred_train = predict(train_x, train_y, parameters)\n",
    "pred_test = predict(test_x, test_y, parameters)"
   ]
  }
 ],
 "metadata": {
  "kernelspec": {
   "display_name": "Python 3",
   "language": "python",
   "name": "python3"
  },
  "language_info": {
   "codemirror_mode": {
    "name": "ipython",
    "version": 3
   },
   "file_extension": ".py",
   "mimetype": "text/x-python",
   "name": "python",
   "nbconvert_exporter": "python",
   "pygments_lexer": "ipython3",
   "version": "3.7.1"
  }
 },
 "nbformat": 4,
 "nbformat_minor": 2
}
