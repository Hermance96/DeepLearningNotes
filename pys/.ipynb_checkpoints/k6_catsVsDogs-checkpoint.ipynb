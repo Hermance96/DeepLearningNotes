{
 "cells": [
  {
   "cell_type": "code",
   "execution_count": 4,
   "metadata": {},
   "outputs": [],
   "source": [
    "import os, shutil"
   ]
  },
  {
   "cell_type": "code",
   "execution_count": 6,
   "metadata": {},
   "outputs": [],
   "source": [
    "base_dir = '/Users/liuxuanchi/Downloads/cats_and_dogs_small'\n",
    "# os.mkdir(base_dir)\n",
    "\n",
    "train_dir = os.path.join(base_dir, 'train')\n",
    "# os.mkdir(train_dir)\n",
    "validation_dir = os.path.join(base_dir, 'validation')\n",
    "# os.mkdir(validation_dir)\n",
    "test_dir = os.path.join(base_dir, 'test')\n",
    "# os.mkdir(test_dir)\n",
    "\n",
    "train_cats_dir = os.path.join(train_dir, 'cats')\n",
    "# os.mkdir(train_cats_dir)\n",
    "train_dogs_dir = os.path.join(train_dir, 'dogs')\n",
    "# os.mkdir(train_dogs_dir)\n",
    "\n",
    "validation_cats_dir = os.path.join(validation_dir, 'cats')\n",
    "# os.mkdir(validation_cats_dir)\n",
    "validation_dogs_dir = os.path.join(validation_dir, 'dogs')\n",
    "# os.mkdir(validation_dogs_dir)\n",
    "\n",
    "test_cats_dir = os.path.join(test_dir, 'cats')\n",
    "# os.mkdir(test_cats_dir)\n",
    "test_dogs_dir = os.path.join(test_dir, 'dogs')\n",
    "# os.mkdir(test_dogs_dir)"
   ]
  },
  {
   "cell_type": "code",
   "execution_count": 7,
   "metadata": {},
   "outputs": [],
   "source": [
    "original_dataset_dir = '/Users/liuxuanchi/Downloads/dogs-vs-cats/train'"
   ]
  },
  {
   "cell_type": "code",
   "execution_count": 4,
   "metadata": {},
   "outputs": [],
   "source": [
    "fnames = ['cat.{}.jpg'.format(i) for i in range(1000)] \n",
    "for fname in fnames:\n",
    "    src = os.path.join(original_dataset_dir, fname) \n",
    "    dst = os.path.join(train_cats_dir, fname) \n",
    "    shutil.copyfile(src, dst)"
   ]
  },
  {
   "cell_type": "code",
   "execution_count": 5,
   "metadata": {},
   "outputs": [],
   "source": [
    "fnames = ['cat.{}.jpg'.format(i) for i in range(1000, 1500)] \n",
    "for fname in fnames:\n",
    "    src = os.path.join(original_dataset_dir, fname) \n",
    "    dst = os.path.join(validation_cats_dir, fname) \n",
    "    shutil.copyfile(src, dst)\n",
    "\n",
    "fnames = ['cat.{}.jpg'.format(i) for i in range(1500, 2000)] \n",
    "for fname in fnames:\n",
    "    src = os.path.join(original_dataset_dir, fname) \n",
    "    dst = os.path.join(test_cats_dir, fname) \n",
    "    shutil.copyfile(src, dst)"
   ]
  },
  {
   "cell_type": "code",
   "execution_count": 6,
   "metadata": {},
   "outputs": [],
   "source": [
    "fnames = ['dog.{}.jpg'.format(i) for i in range(1000)] \n",
    "for fname in fnames:\n",
    "    src = os.path.join(original_dataset_dir, fname) \n",
    "    dst = os.path.join(train_dogs_dir, fname) \n",
    "    shutil.copyfile(src, dst)\n",
    "\n",
    "fnames = ['dog.{}.jpg'.format(i) for i in range(1000, 1500)] \n",
    "for fname in fnames:\n",
    "    src = os.path.join(original_dataset_dir, fname) \n",
    "    dst = os.path.join(validation_dogs_dir, fname) \n",
    "    shutil.copyfile(src, dst)\n",
    "\n",
    "fnames = ['dog.{}.jpg'.format(i) for i in range(1500, 2000)] \n",
    "for fname in fnames:\n",
    "    src = os.path.join(original_dataset_dir, fname) \n",
    "    dst = os.path.join(test_dogs_dir, fname) \n",
    "    shutil.copyfile(src, dst)"
   ]
  },
  {
   "cell_type": "code",
   "execution_count": 8,
   "metadata": {},
   "outputs": [
    {
     "name": "stdout",
     "output_type": "stream",
     "text": [
      "1000\n",
      "500\n",
      "500\n",
      "1000\n",
      "500\n",
      "500\n"
     ]
    }
   ],
   "source": [
    "print(len(os.listdir(train_cats_dir)))\n",
    "print(len(os.listdir(validation_cats_dir)))\n",
    "print(len(os.listdir(test_cats_dir)))\n",
    "print(len(os.listdir(train_dogs_dir)))\n",
    "print(len(os.listdir(validation_dogs_dir)))\n",
    "print(len(os.listdir(test_dogs_dir)))"
   ]
  },
  {
   "cell_type": "code",
   "execution_count": 9,
   "metadata": {},
   "outputs": [
    {
     "name": "stderr",
     "output_type": "stream",
     "text": [
      "Using TensorFlow backend.\n"
     ]
    },
    {
     "name": "stdout",
     "output_type": "stream",
     "text": [
      "WARNING:tensorflow:From /Users/liuxuanchi/anaconda3/envs/jyy/lib/python3.5/site-packages/tensorflow/python/framework/op_def_library.py:263: colocate_with (from tensorflow.python.framework.ops) is deprecated and will be removed in a future version.\n",
      "Instructions for updating:\n",
      "Colocations handled automatically by placer.\n"
     ]
    }
   ],
   "source": [
    "from keras import models\n",
    "from keras import layers\n",
    "\n",
    "model = models.Sequential()\n",
    "model.add(layers.Conv2D(32, (3,3), activation='relu', input_shape=(150, 150, 3)))\n",
    "model.add(layers.MaxPooling2D((2,2)))\n",
    "model.add(layers.Conv2D(64, (3,3), activation='relu'))\n",
    "model.add(layers.MaxPooling2D((2,2)))\n",
    "model.add(layers.Conv2D(128, (3,3), activation='relu'))\n",
    "model.add(layers.MaxPooling2D((2,2)))\n",
    "model.add(layers.Conv2D(128, (3,3), activation='relu'))\n",
    "model.add(layers.MaxPooling2D((2,2)))\n",
    "model.add(layers.Flatten())\n",
    "model.add(layers.Dense(512, activation='relu'))\n",
    "model.add(layers.Dense(1, activation='sigmoid'))"
   ]
  },
  {
   "cell_type": "code",
   "execution_count": 10,
   "metadata": {
    "scrolled": false
   },
   "outputs": [
    {
     "name": "stdout",
     "output_type": "stream",
     "text": [
      "_________________________________________________________________\n",
      "Layer (type)                 Output Shape              Param #   \n",
      "=================================================================\n",
      "conv2d_1 (Conv2D)            (None, 148, 148, 32)      896       \n",
      "_________________________________________________________________\n",
      "max_pooling2d_1 (MaxPooling2 (None, 74, 74, 32)        0         \n",
      "_________________________________________________________________\n",
      "conv2d_2 (Conv2D)            (None, 72, 72, 64)        18496     \n",
      "_________________________________________________________________\n",
      "max_pooling2d_2 (MaxPooling2 (None, 36, 36, 64)        0         \n",
      "_________________________________________________________________\n",
      "conv2d_3 (Conv2D)            (None, 34, 34, 128)       73856     \n",
      "_________________________________________________________________\n",
      "max_pooling2d_3 (MaxPooling2 (None, 17, 17, 128)       0         \n",
      "_________________________________________________________________\n",
      "conv2d_4 (Conv2D)            (None, 15, 15, 128)       147584    \n",
      "_________________________________________________________________\n",
      "max_pooling2d_4 (MaxPooling2 (None, 7, 7, 128)         0         \n",
      "_________________________________________________________________\n",
      "flatten_1 (Flatten)          (None, 6272)              0         \n",
      "_________________________________________________________________\n",
      "dense_1 (Dense)              (None, 512)               3211776   \n",
      "_________________________________________________________________\n",
      "dense_2 (Dense)              (None, 1)                 513       \n",
      "=================================================================\n",
      "Total params: 3,453,121\n",
      "Trainable params: 3,453,121\n",
      "Non-trainable params: 0\n",
      "_________________________________________________________________\n"
     ]
    }
   ],
   "source": [
    "model.summary()"
   ]
  },
  {
   "cell_type": "code",
   "execution_count": 11,
   "metadata": {},
   "outputs": [],
   "source": [
    "from keras import optimizers\n",
    "\n",
    "model.compile(loss='binary_crossentropy',\n",
    "             optimizer=optimizers.RMSprop(lr=0.0001),\n",
    "             metrics=['acc'])"
   ]
  },
  {
   "cell_type": "code",
   "execution_count": 12,
   "metadata": {},
   "outputs": [
    {
     "name": "stdout",
     "output_type": "stream",
     "text": [
      "Found 2000 images belonging to 2 classes.\n"
     ]
    }
   ],
   "source": [
    "from keras.preprocessing.image import ImageDataGenerator\n",
    "\n",
    "train_datagen = ImageDataGenerator(rescale=1./255) \n",
    "test_datagen = ImageDataGenerator(rescale=1./255)\n",
    "\n",
    "train_generator = train_datagen.flow_from_directory(\n",
    "    train_dir,\n",
    "    target_size=(150, 150),\n",
    "    batch_size=20,\n",
    "    class_mode='binary'\n",
    ")"
   ]
  },
  {
   "cell_type": "code",
   "execution_count": 13,
   "metadata": {},
   "outputs": [
    {
     "name": "stdout",
     "output_type": "stream",
     "text": [
      "Found 1000 images belonging to 2 classes.\n"
     ]
    }
   ],
   "source": [
    "validation_generator = test_datagen.flow_from_directory(\n",
    "    validation_dir,\n",
    "    target_size=(150, 150),\n",
    "    batch_size=20,\n",
    "    class_mode='binary'\n",
    ")"
   ]
  },
  {
   "cell_type": "code",
   "execution_count": 15,
   "metadata": {},
   "outputs": [],
   "source": [
    "from PIL import Image"
   ]
  },
  {
   "cell_type": "code",
   "execution_count": 16,
   "metadata": {},
   "outputs": [
    {
     "name": "stdout",
     "output_type": "stream",
     "text": [
      "WARNING:tensorflow:From /Users/liuxuanchi/anaconda3/envs/jyy/lib/python3.5/site-packages/tensorflow/python/ops/math_ops.py:3066: to_int32 (from tensorflow.python.ops.math_ops) is deprecated and will be removed in a future version.\n",
      "Instructions for updating:\n",
      "Use tf.cast instead.\n",
      "Epoch 1/30\n",
      "100/100 [==============================] - 119s 1s/step - loss: 0.6887 - acc: 0.5475 - val_loss: 0.6970 - val_acc: 0.5000\n",
      "Epoch 2/30\n",
      "100/100 [==============================] - 121s 1s/step - loss: 0.6564 - acc: 0.6125 - val_loss: 0.6369 - val_acc: 0.6530\n",
      "Epoch 3/30\n",
      "100/100 [==============================] - 123s 1s/step - loss: 0.5975 - acc: 0.6790 - val_loss: 0.6587 - val_acc: 0.6100\n",
      "Epoch 4/30\n",
      "100/100 [==============================] - 113s 1s/step - loss: 0.5521 - acc: 0.7250 - val_loss: 0.6304 - val_acc: 0.6490\n",
      "Epoch 5/30\n",
      "100/100 [==============================] - 108s 1s/step - loss: 0.5239 - acc: 0.7405 - val_loss: 0.5810 - val_acc: 0.7000\n",
      "Epoch 6/30\n",
      "100/100 [==============================] - 108s 1s/step - loss: 0.4922 - acc: 0.7555 - val_loss: 0.5670 - val_acc: 0.6990\n",
      "Epoch 7/30\n",
      "100/100 [==============================] - 108s 1s/step - loss: 0.4691 - acc: 0.7760 - val_loss: 0.5861 - val_acc: 0.6940\n",
      "Epoch 8/30\n",
      "100/100 [==============================] - 108s 1s/step - loss: 0.4372 - acc: 0.8035 - val_loss: 0.5842 - val_acc: 0.6910\n",
      "Epoch 9/30\n",
      "100/100 [==============================] - 108s 1s/step - loss: 0.4135 - acc: 0.8095 - val_loss: 0.5752 - val_acc: 0.7010\n",
      "Epoch 10/30\n",
      "100/100 [==============================] - 119s 1s/step - loss: 0.3818 - acc: 0.8310 - val_loss: 0.6045 - val_acc: 0.6910\n",
      "Epoch 11/30\n",
      "100/100 [==============================] - 127s 1s/step - loss: 0.3578 - acc: 0.8435 - val_loss: 0.5791 - val_acc: 0.7210\n",
      "Epoch 12/30\n",
      "100/100 [==============================] - 122s 1s/step - loss: 0.3298 - acc: 0.8625 - val_loss: 0.5720 - val_acc: 0.7180\n",
      "Epoch 13/30\n",
      "100/100 [==============================] - 109s 1s/step - loss: 0.3036 - acc: 0.8735 - val_loss: 0.6353 - val_acc: 0.7130\n",
      "Epoch 14/30\n",
      "100/100 [==============================] - 109s 1s/step - loss: 0.2772 - acc: 0.8950 - val_loss: 0.6186 - val_acc: 0.7140\n",
      "Epoch 15/30\n",
      "100/100 [==============================] - 119s 1s/step - loss: 0.2531 - acc: 0.8960 - val_loss: 0.6603 - val_acc: 0.7130\n",
      "Epoch 16/30\n",
      "100/100 [==============================] - 126s 1s/step - loss: 0.2344 - acc: 0.9015 - val_loss: 0.6550 - val_acc: 0.7210\n",
      "Epoch 17/30\n",
      "100/100 [==============================] - 126s 1s/step - loss: 0.2071 - acc: 0.9240 - val_loss: 0.7002 - val_acc: 0.7130\n",
      "Epoch 18/30\n",
      "100/100 [==============================] - 132s 1s/step - loss: 0.1880 - acc: 0.9265 - val_loss: 0.7664 - val_acc: 0.6960\n",
      "Epoch 19/30\n",
      "100/100 [==============================] - 128s 1s/step - loss: 0.1618 - acc: 0.9430 - val_loss: 0.7785 - val_acc: 0.7120\n",
      "Epoch 20/30\n",
      "100/100 [==============================] - 129s 1s/step - loss: 0.1447 - acc: 0.9490 - val_loss: 0.7563 - val_acc: 0.7190\n",
      "Epoch 21/30\n",
      "100/100 [==============================] - 121s 1s/step - loss: 0.1266 - acc: 0.9585 - val_loss: 0.7736 - val_acc: 0.7090\n",
      "Epoch 22/30\n",
      "100/100 [==============================] - 119s 1s/step - loss: 0.1127 - acc: 0.9620 - val_loss: 0.8440 - val_acc: 0.7000\n",
      "Epoch 23/30\n",
      "100/100 [==============================] - 121s 1s/step - loss: 0.0902 - acc: 0.9695 - val_loss: 1.3307 - val_acc: 0.6710\n",
      "Epoch 24/30\n",
      "100/100 [==============================] - 119s 1s/step - loss: 0.0816 - acc: 0.9730 - val_loss: 0.9775 - val_acc: 0.7210\n",
      "Epoch 25/30\n",
      "100/100 [==============================] - 122s 1s/step - loss: 0.0701 - acc: 0.9785 - val_loss: 0.9546 - val_acc: 0.7060\n",
      "Epoch 26/30\n",
      "100/100 [==============================] - 126s 1s/step - loss: 0.0558 - acc: 0.9845 - val_loss: 1.0462 - val_acc: 0.7220\n",
      "Epoch 27/30\n",
      "100/100 [==============================] - 135s 1s/step - loss: 0.0496 - acc: 0.9865 - val_loss: 1.0534 - val_acc: 0.7220\n",
      "Epoch 28/30\n",
      "100/100 [==============================] - 142s 1s/step - loss: 0.0348 - acc: 0.9930 - val_loss: 1.1449 - val_acc: 0.7220\n",
      "Epoch 29/30\n",
      "100/100 [==============================] - 143s 1s/step - loss: 0.0439 - acc: 0.9875 - val_loss: 1.4155 - val_acc: 0.7020\n",
      "Epoch 30/30\n",
      "100/100 [==============================] - 131s 1s/step - loss: 0.0299 - acc: 0.9945 - val_loss: 1.4506 - val_acc: 0.7110\n"
     ]
    }
   ],
   "source": [
    "history = model.fit_generator(train_generator,\n",
    "                             steps_per_epoch=100,\n",
    "                             epochs=30,\n",
    "                             validation_data=validation_generator,\n",
    "                             validation_steps=50)"
   ]
  },
  {
   "cell_type": "code",
   "execution_count": 17,
   "metadata": {},
   "outputs": [],
   "source": [
    "model.save('cvd_small1.h5')"
   ]
  },
  {
   "cell_type": "code",
   "execution_count": 20,
   "metadata": {},
   "outputs": [
    {
     "data": {
      "image/png": "[encoded data removed]",
      "text/plain": [
       "<Figure size 1440x432 with 2 Axes>"
      ]
     },
     "metadata": {
      "needs_background": "light"
     },
     "output_type": "display_data"
    }
   ],
   "source": [
    "import matplotlib.pyplot as plt\n",
    "%matplotlib inline\n",
    "\n",
    "acc = history.history['acc']\n",
    "val_acc = history.history['val_acc'] \n",
    "loss = history.history['loss'] \n",
    "val_loss = history.history['val_loss']\n",
    "epochs = range(1, len(acc) + 1)\n",
    "\n",
    "plt.figure(figsize=(20, 6))\n",
    "\n",
    "plt.subplot(1, 2, 1)\n",
    "plt.plot(epochs, acc, 'bo', label='Training acc') \n",
    "plt.plot(epochs, val_acc, 'b', label='Validation acc') \n",
    "plt.title('Training and validation accuracy') \n",
    "plt.legend()\n",
    "\n",
    "# plt.figure()\n",
    "plt.subplot(1, 2, 2)\n",
    "plt.plot(epochs, loss, 'bo', label='Training loss') \n",
    "plt.plot(epochs, val_loss, 'b', label='Validation loss') \n",
    "plt.title('Training and validation loss')\n",
    "plt.legend()\n",
    "\n",
    "plt.show()"
   ]
  },
  {
   "cell_type": "markdown",
   "metadata": {},
   "source": [
    "# 数据增强解决过拟合问题"
   ]
  },
  {
   "cell_type": "code",
   "execution_count": 21,
   "metadata": {},
   "outputs": [
    {
     "name": "stdout",
     "output_type": "stream",
     "text": [
      "WARNING:tensorflow:From /Users/liuxuanchi/anaconda3/envs/jyy/lib/python3.5/site-packages/keras/backend/tensorflow_backend.py:3445: calling dropout (from tensorflow.python.ops.nn_ops) with keep_prob is deprecated and will be removed in a future version.\n",
      "Instructions for updating:\n",
      "Please use `rate` instead of `keep_prob`. Rate should be set to `rate = 1 - keep_prob`.\n"
     ]
    }
   ],
   "source": [
    "model = models.Sequential() \n",
    "model.add(layers.Conv2D(32, (3, 3), activation='relu',input_shape=(150, 150, 3))) \n",
    "model.add(layers.MaxPooling2D((2, 2)))\n",
    "model.add(layers.Conv2D(64, (3, 3), activation='relu')) \n",
    "model.add(layers.MaxPooling2D((2, 2))) \n",
    "model.add(layers.Conv2D(128, (3, 3), activation='relu')) \n",
    "model.add(layers.MaxPooling2D((2, 2))) \n",
    "model.add(layers.Conv2D(128, (3, 3), activation='relu')) \n",
    "model.add(layers.MaxPooling2D((2, 2))) \n",
    "model.add(layers.Flatten()) \n",
    "model.add(layers.Dropout(0.5)) \n",
    "model.add(layers.Dense(512, activation='relu')) \n",
    "model.add(layers.Dense(1, activation='sigmoid'))\n",
    "\n",
    "model.compile(loss='binary_crossentropy', \n",
    "              optimizer=optimizers.RMSprop(lr=0.0001),\n",
    "              metrics=['acc'])"
   ]
  },
  {
   "cell_type": "code",
   "execution_count": 22,
   "metadata": {},
   "outputs": [
    {
     "name": "stdout",
     "output_type": "stream",
     "text": [
      "Found 2000 images belonging to 2 classes.\n",
      "Found 1000 images belonging to 2 classes.\n"
     ]
    }
   ],
   "source": [
    "train_datagen = ImageDataGenerator(\n",
    "                    rescale=1./255,\n",
    "                    rotation_range=40,\n",
    "                    width_shift_range=0.2,\n",
    "                    height_shift_range=0.2,\n",
    "                    shear_range=0.2,\n",
    "                    zoom_range=0.2,\n",
    "                    horizontal_flip=True,\n",
    "                    fill_mode='nearest')\n",
    "\n",
    "# 验证数据不能增强\n",
    "test_datagen = ImageDataGenerator(rescale=1./255)\n",
    "\n",
    "train_generator = train_datagen.flow_from_directory(\n",
    "    train_dir,\n",
    "    target_size=(150, 150),\n",
    "    batch_size=32,\n",
    "    class_mode='binary'\n",
    ")\n",
    "validation_generator = test_datagen.flow_from_directory(\n",
    "    validation_dir,\n",
    "    target_size=(150, 150),\n",
    "    batch_size=32,\n",
    "    class_mode='binary'\n",
    ")"
   ]
  },
  {
   "cell_type": "code",
   "execution_count": 23,
   "metadata": {},
   "outputs": [
    {
     "name": "stdout",
     "output_type": "stream",
     "text": [
      "Epoch 1/80\n",
      "100/100 [==============================] - 174s 2s/step - loss: 0.6916 - acc: 0.5206 - val_loss: 0.6844 - val_acc: 0.5482\n",
      "Epoch 2/80\n",
      "100/100 [==============================] - 170s 2s/step - loss: 0.6835 - acc: 0.5641 - val_loss: 0.6625 - val_acc: 0.6179\n",
      "Epoch 3/80\n",
      "100/100 [==============================] - 171s 2s/step - loss: 0.6609 - acc: 0.6056 - val_loss: 0.6857 - val_acc: 0.5603\n",
      "Epoch 4/80\n",
      "100/100 [==============================] - 170s 2s/step - loss: 0.6527 - acc: 0.6209 - val_loss: 0.6531 - val_acc: 0.5857\n",
      "Epoch 5/80\n",
      "100/100 [==============================] - 171s 2s/step - loss: 0.6289 - acc: 0.6481 - val_loss: 0.6029 - val_acc: 0.6567\n",
      "Epoch 6/80\n",
      "100/100 [==============================] - 170s 2s/step - loss: 0.6216 - acc: 0.6544 - val_loss: 0.5959 - val_acc: 0.6798\n",
      "Epoch 7/80\n",
      "100/100 [==============================] - 171s 2s/step - loss: 0.6138 - acc: 0.6606 - val_loss: 0.5815 - val_acc: 0.6758\n",
      "Epoch 8/80\n",
      "100/100 [==============================] - 224s 2s/step - loss: 0.5960 - acc: 0.6788 - val_loss: 0.5750 - val_acc: 0.7049\n",
      "Epoch 9/80\n",
      "100/100 [==============================] - 229s 2s/step - loss: 0.5831 - acc: 0.6831 - val_loss: 0.5589 - val_acc: 0.6946\n",
      "Epoch 10/80\n",
      "100/100 [==============================] - 234s 2s/step - loss: 0.5869 - acc: 0.6834 - val_loss: 0.5995 - val_acc: 0.6834\n",
      "Epoch 11/80\n",
      "100/100 [==============================] - 231s 2s/step - loss: 0.5720 - acc: 0.6994 - val_loss: 0.5859 - val_acc: 0.6881\n",
      "Epoch 12/80\n",
      "100/100 [==============================] - 233s 2s/step - loss: 0.5677 - acc: 0.7038 - val_loss: 0.5962 - val_acc: 0.6612\n",
      "Epoch 13/80\n",
      "100/100 [==============================] - 238s 2s/step - loss: 0.5616 - acc: 0.7066 - val_loss: 0.5668 - val_acc: 0.6952\n",
      "Epoch 14/80\n",
      "100/100 [==============================] - 234s 2s/step - loss: 0.5547 - acc: 0.7072 - val_loss: 0.5236 - val_acc: 0.7310\n",
      "Epoch 15/80\n",
      "100/100 [==============================] - 235s 2s/step - loss: 0.5492 - acc: 0.7266 - val_loss: 0.5454 - val_acc: 0.7049\n",
      "Epoch 16/80\n",
      "100/100 [==============================] - 232s 2s/step - loss: 0.5507 - acc: 0.7159 - val_loss: 0.5008 - val_acc: 0.7506\n",
      "Epoch 17/80\n",
      "100/100 [==============================] - 234s 2s/step - loss: 0.5495 - acc: 0.7053 - val_loss: 0.5760 - val_acc: 0.6872\n",
      "Epoch 18/80\n",
      "100/100 [==============================] - 251s 3s/step - loss: 0.5365 - acc: 0.7225 - val_loss: 0.5231 - val_acc: 0.7320\n",
      "Epoch 19/80\n",
      "100/100 [==============================] - 221s 2s/step - loss: 0.5286 - acc: 0.7422 - val_loss: 0.5074 - val_acc: 0.7430\n",
      "Epoch 20/80\n",
      "100/100 [==============================] - 186s 2s/step - loss: 0.5267 - acc: 0.7409 - val_loss: 0.5115 - val_acc: 0.7307\n",
      "Epoch 21/80\n",
      "100/100 [==============================] - 259s 3s/step - loss: 0.5219 - acc: 0.7334 - val_loss: 0.5219 - val_acc: 0.7367\n",
      "Epoch 22/80\n",
      "100/100 [==============================] - 260s 3s/step - loss: 0.5300 - acc: 0.7269 - val_loss: 0.6519 - val_acc: 0.6630\n",
      "Epoch 23/80\n",
      "100/100 [==============================] - 259s 3s/step - loss: 0.5119 - acc: 0.7494 - val_loss: 0.4947 - val_acc: 0.7475\n",
      "Epoch 24/80\n",
      "100/100 [==============================] - 260s 3s/step - loss: 0.5208 - acc: 0.7466 - val_loss: 0.5071 - val_acc: 0.7423\n",
      "Epoch 25/80\n",
      "100/100 [==============================] - 261s 3s/step - loss: 0.4997 - acc: 0.7528 - val_loss: 0.5318 - val_acc: 0.7281\n",
      "Epoch 26/80\n",
      "100/100 [==============================] - 177s 2s/step - loss: 0.4957 - acc: 0.7616 - val_loss: 0.5687 - val_acc: 0.7221\n",
      "Epoch 27/80\n",
      "100/100 [==============================] - 199s 2s/step - loss: 0.5064 - acc: 0.7441 - val_loss: 0.4912 - val_acc: 0.7693\n",
      "Epoch 28/80\n",
      "100/100 [==============================] - 259s 3s/step - loss: 0.5002 - acc: 0.7484 - val_loss: 0.5715 - val_acc: 0.6980\n",
      "Epoch 29/80\n",
      "100/100 [==============================] - 260s 3s/step - loss: 0.4858 - acc: 0.7637 - val_loss: 0.5188 - val_acc: 0.7487\n",
      "Epoch 30/80\n",
      "100/100 [==============================] - 262s 3s/step - loss: 0.4957 - acc: 0.7553 - val_loss: 0.4799 - val_acc: 0.7735\n",
      "Epoch 31/80\n",
      "100/100 [==============================] - 257s 3s/step - loss: 0.4957 - acc: 0.7556 - val_loss: 0.4984 - val_acc: 0.7590\n",
      "Epoch 32/80\n",
      "100/100 [==============================] - 258s 3s/step - loss: 0.4875 - acc: 0.7588 - val_loss: 0.5436 - val_acc: 0.7171\n",
      "Epoch 33/80\n",
      "100/100 [==============================] - 259s 3s/step - loss: 0.4712 - acc: 0.7753 - val_loss: 0.4628 - val_acc: 0.7779\n",
      "Epoch 34/80\n",
      "100/100 [==============================] - 259s 3s/step - loss: 0.4739 - acc: 0.7734 - val_loss: 0.4767 - val_acc: 0.7706\n",
      "Epoch 35/80\n",
      "100/100 [==============================] - 187s 2s/step - loss: 0.4828 - acc: 0.7638 - val_loss: 0.4745 - val_acc: 0.7697\n",
      "Epoch 36/80\n",
      "100/100 [==============================] - 168s 2s/step - loss: 0.4730 - acc: 0.7697 - val_loss: 0.4819 - val_acc: 0.7622\n",
      "Epoch 37/80\n",
      "100/100 [==============================] - 171s 2s/step - loss: 0.4714 - acc: 0.7700 - val_loss: 0.4697 - val_acc: 0.7735\n",
      "Epoch 38/80\n",
      "100/100 [==============================] - 168s 2s/step - loss: 0.4798 - acc: 0.7719 - val_loss: 0.4629 - val_acc: 0.7835\n",
      "Epoch 39/80\n",
      "100/100 [==============================] - 169s 2s/step - loss: 0.4687 - acc: 0.7691 - val_loss: 0.4769 - val_acc: 0.7792\n",
      "Epoch 40/80\n",
      "100/100 [==============================] - 168s 2s/step - loss: 0.4616 - acc: 0.7862 - val_loss: 0.4495 - val_acc: 0.7925\n",
      "Epoch 41/80\n",
      "100/100 [==============================] - 168s 2s/step - loss: 0.4681 - acc: 0.7703 - val_loss: 0.4600 - val_acc: 0.7751\n",
      "Epoch 42/80\n",
      "100/100 [==============================] - 169s 2s/step - loss: 0.4568 - acc: 0.7866 - val_loss: 0.4744 - val_acc: 0.7779\n",
      "Epoch 43/80\n",
      "100/100 [==============================] - 168s 2s/step - loss: 0.4618 - acc: 0.7812 - val_loss: 0.4355 - val_acc: 0.7912\n",
      "Epoch 44/80\n",
      "100/100 [==============================] - 201s 2s/step - loss: 0.4586 - acc: 0.7813 - val_loss: 0.4863 - val_acc: 0.7544\n",
      "Epoch 45/80\n",
      "100/100 [==============================] - 231s 2s/step - loss: 0.4432 - acc: 0.7888 - val_loss: 0.4734 - val_acc: 0.7848\n",
      "Epoch 46/80\n",
      "100/100 [==============================] - 231s 2s/step - loss: 0.4451 - acc: 0.7987 - val_loss: 0.4578 - val_acc: 0.7798\n",
      "Epoch 47/80\n",
      "100/100 [==============================] - 232s 2s/step - loss: 0.4435 - acc: 0.7950 - val_loss: 0.4337 - val_acc: 0.8151\n",
      "Epoch 48/80\n",
      "100/100 [==============================] - 233s 2s/step - loss: 0.4390 - acc: 0.8006 - val_loss: 0.5505 - val_acc: 0.7577\n",
      "Epoch 49/80\n",
      "100/100 [==============================] - 236s 2s/step - loss: 0.4463 - acc: 0.7869 - val_loss: 0.4404 - val_acc: 0.7900\n",
      "Epoch 50/80\n",
      "100/100 [==============================] - 235s 2s/step - loss: 0.4527 - acc: 0.7847 - val_loss: 0.5398 - val_acc: 0.7564\n",
      "Epoch 51/80\n",
      "100/100 [==============================] - 215s 2s/step - loss: 0.4357 - acc: 0.7981 - val_loss: 0.4896 - val_acc: 0.7678\n",
      "Epoch 52/80\n",
      "100/100 [==============================] - 191s 2s/step - loss: 0.4465 - acc: 0.7847 - val_loss: 0.5382 - val_acc: 0.7371\n",
      "Epoch 53/80\n",
      "100/100 [==============================] - 174s 2s/step - loss: 0.4464 - acc: 0.7900 - val_loss: 0.4798 - val_acc: 0.7893\n",
      "Epoch 54/80\n",
      "100/100 [==============================] - 176s 2s/step - loss: 0.4408 - acc: 0.7891 - val_loss: 0.4764 - val_acc: 0.7874\n",
      "Epoch 55/80\n",
      "100/100 [==============================] - 173s 2s/step - loss: 0.4290 - acc: 0.7978 - val_loss: 0.4272 - val_acc: 0.7995\n",
      "Epoch 56/80\n",
      "100/100 [==============================] - 185s 2s/step - loss: 0.4216 - acc: 0.7981 - val_loss: 0.4908 - val_acc: 0.7726\n",
      "Epoch 57/80\n",
      "100/100 [==============================] - 193s 2s/step - loss: 0.4268 - acc: 0.8050 - val_loss: 0.5007 - val_acc: 0.7668\n",
      "Epoch 58/80\n",
      "100/100 [==============================] - 179s 2s/step - loss: 0.4250 - acc: 0.7994 - val_loss: 0.4079 - val_acc: 0.8103\n",
      "Epoch 59/80\n",
      "100/100 [==============================] - 182s 2s/step - loss: 0.4374 - acc: 0.7925 - val_loss: 0.4682 - val_acc: 0.7899\n",
      "Epoch 60/80\n",
      "100/100 [==============================] - 183s 2s/step - loss: 0.4213 - acc: 0.8041 - val_loss: 0.4240 - val_acc: 0.7982\n",
      "Epoch 61/80\n",
      "100/100 [==============================] - 187s 2s/step - loss: 0.4338 - acc: 0.7950 - val_loss: 0.4412 - val_acc: 0.7925\n",
      "Epoch 62/80\n"
     ]
    },
    {
     "name": "stdout",
     "output_type": "stream",
     "text": [
      "100/100 [==============================] - 191s 2s/step - loss: 0.4143 - acc: 0.8059 - val_loss: 0.4490 - val_acc: 0.8071\n",
      "Epoch 63/80\n",
      "100/100 [==============================] - 261s 3s/step - loss: 0.4256 - acc: 0.8003 - val_loss: 0.4616 - val_acc: 0.7899\n",
      "Epoch 64/80\n",
      "100/100 [==============================] - 319s 3s/step - loss: 0.4095 - acc: 0.8087 - val_loss: 0.4209 - val_acc: 0.8099\n",
      "Epoch 65/80\n",
      "100/100 [==============================] - 288s 3s/step - loss: 0.4235 - acc: 0.7953 - val_loss: 0.5398 - val_acc: 0.7589\n",
      "Epoch 66/80\n",
      "100/100 [==============================] - 449s 4s/step - loss: 0.4036 - acc: 0.8081 - val_loss: 0.5115 - val_acc: 0.7648\n",
      "Epoch 67/80\n",
      "100/100 [==============================] - 341s 3s/step - loss: 0.4145 - acc: 0.8056 - val_loss: 0.4242 - val_acc: 0.8141\n",
      "Epoch 68/80\n",
      "100/100 [==============================] - 335s 3s/step - loss: 0.4110 - acc: 0.8022 - val_loss: 0.4498 - val_acc: 0.7957\n",
      "Epoch 69/80\n",
      "100/100 [==============================] - 330s 3s/step - loss: 0.4073 - acc: 0.8153 - val_loss: 0.4868 - val_acc: 0.7602\n",
      "Epoch 70/80\n",
      "100/100 [==============================] - 331s 3s/step - loss: 0.3981 - acc: 0.8197 - val_loss: 0.4644 - val_acc: 0.7945\n",
      "Epoch 71/80\n",
      "100/100 [==============================] - 454s 5s/step - loss: 0.3920 - acc: 0.8287 - val_loss: 0.4789 - val_acc: 0.7697\n",
      "Epoch 72/80\n",
      "100/100 [==============================] - 488s 5s/step - loss: 0.4094 - acc: 0.8119 - val_loss: 0.4151 - val_acc: 0.8164\n",
      "Epoch 73/80\n",
      "100/100 [==============================] - 500s 5s/step - loss: 0.3993 - acc: 0.8156 - val_loss: 0.4586 - val_acc: 0.7977\n",
      "Epoch 74/80\n",
      "100/100 [==============================] - 238s 2s/step - loss: 0.3924 - acc: 0.8306 - val_loss: 0.4483 - val_acc: 0.7976\n",
      "Epoch 75/80\n",
      "100/100 [==============================] - 205s 2s/step - loss: 0.4035 - acc: 0.8200 - val_loss: 0.4768 - val_acc: 0.7899\n",
      "Epoch 76/80\n",
      "100/100 [==============================] - 175s 2s/step - loss: 0.3887 - acc: 0.8200 - val_loss: 0.4416 - val_acc: 0.8109\n",
      "Epoch 77/80\n",
      "100/100 [==============================] - 171s 2s/step - loss: 0.3958 - acc: 0.8203 - val_loss: 0.4121 - val_acc: 0.8157\n",
      "Epoch 78/80\n",
      "100/100 [==============================] - 172s 2s/step - loss: 0.3844 - acc: 0.8275 - val_loss: 0.4370 - val_acc: 0.8065\n",
      "Epoch 79/80\n",
      "100/100 [==============================] - 170s 2s/step - loss: 0.3853 - acc: 0.8234 - val_loss: 0.4410 - val_acc: 0.8028\n",
      "Epoch 80/80\n",
      "100/100 [==============================] - 172s 2s/step - loss: 0.3820 - acc: 0.8350 - val_loss: 0.4383 - val_acc: 0.8067\n"
     ]
    }
   ],
   "source": [
    "history = model.fit_generator(train_generator,\n",
    "                              steps_per_epoch=100,\n",
    "                              epochs=80,\n",
    "                              validation_data=validation_generator,\n",
    "                              validation_steps=50)"
   ]
  },
  {
   "cell_type": "code",
   "execution_count": 24,
   "metadata": {},
   "outputs": [],
   "source": [
    "model.save('cvd_small2.h5')"
   ]
  }
 ],
 "metadata": {
  "kernelspec": {
   "display_name": "Python 3",
   "language": "python",
   "name": "python3"
  },
  "language_info": {
   "codemirror_mode": {
    "name": "ipython",
    "version": 3
   },
   "file_extension": ".py",
   "mimetype": "text/x-python",
   "name": "python",
   "nbconvert_exporter": "python",
   "pygments_lexer": "ipython3",
   "version": "3.5.6"
  }
 },
 "nbformat": 4,
 "nbformat_minor": 4
}
