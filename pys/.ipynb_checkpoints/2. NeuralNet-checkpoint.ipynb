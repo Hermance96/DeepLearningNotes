{
 "cells": [
  {
   "cell_type": "code",
   "execution_count": 1,
   "metadata": {},
   "outputs": [],
   "source": [
    "import numpy as np\n",
    "import h5py\n",
    "import matplotlib.pyplot as plt\n",
    "from testCases_v3 import *\n",
    "from dnn_utils_v2 import sigmoid, sigmoid_backward, relu, relu_backward\n",
    "\n",
    "%matplotlib inline\n",
    "plt.rcParams['figure.figsize'] = (5.0, 4.0)\n",
    "plt.rcParams['image.interpolation'] = 'nearest'\n",
    "plt.rcParams['image.cmap'] = 'gray'\n",
    "\n",
    "%load_ext autoreload\n",
    "%autoreload 2\n",
    "\n",
    "np.random.seed(1)"
   ]
  },
  {
   "cell_type": "code",
   "execution_count": 2,
   "metadata": {},
   "outputs": [],
   "source": [
    "# 初始化一个2层网络：input layer[nx] + hidden layer[nh] + ouput layer[ny]\n",
    "def initialize_parameters(nx, nh, ny):\n",
    "    # random initialisation\n",
    "    W1 = np.random.randn(nh, nx)*0.01\n",
    "    b1 = np.zeros((nh, 1))\n",
    "    W2 = np.random.randn(ny, nh)*0.01\n",
    "    b2 = np.zeros((ny, 1))\n",
    "    \n",
    "    params = {\n",
    "        \"W1\": W1,\n",
    "        \"b1\": b1,\n",
    "        \"W2\": W2,\n",
    "        \"b2\": b2\n",
    "    }\n",
    "    return params"
   ]
  },
  {
   "cell_type": "code",
   "execution_count": 3,
   "metadata": {},
   "outputs": [
    {
     "name": "stdout",
     "output_type": "stream",
     "text": [
      "{'W1': array([[ 0.01624345, -0.00611756],\n",
      "       [-0.00528172, -0.01072969]]), 'b1': array([[0.],\n",
      "       [0.]]), 'W2': array([[ 0.00865408, -0.02301539]]), 'b2': array([[0.]])}\n"
     ]
    }
   ],
   "source": [
    "params = initialize_parameters(2, 2, 1)\n",
    "print(params)"
   ]
  },
  {
   "cell_type": "code",
   "execution_count": 5,
   "metadata": {},
   "outputs": [],
   "source": [
    "def initialize_parameters_deep(layer_dims):\n",
    "    np.random.seed(3)\n",
    "    params = {}\n",
    "    layers = len(layer_dims)\n",
    "    \n",
    "    for l in range(1, layers):\n",
    "        params[\"W\"+str(l)] = np.random.randn(layer_dims[l], layer_dims[l-1]) * 0.01\n",
    "        params[\"b\"+str(l)] = np.zeros((layer_dims[l], 1))\n",
    "        \n",
    "    return params"
   ]
  },
  {
   "cell_type": "code",
   "execution_count": 6,
   "metadata": {},
   "outputs": [
    {
     "name": "stdout",
     "output_type": "stream",
     "text": [
      "{'W1': array([[ 0.01788628,  0.0043651 ,  0.00096497],\n",
      "       [-0.01863493, -0.00277388, -0.00354759]]), 'b1': array([[0.],\n",
      "       [0.]]), 'W2': array([[-0.00082741, -0.00627001],\n",
      "       [-0.00043818, -0.00477218]]), 'b2': array([[0.],\n",
      "       [0.]]), 'W3': array([[-0.01313865,  0.00884622]]), 'b3': array([[0.]])}\n"
     ]
    }
   ],
   "source": [
    "params = initialize_parameters_deep([3, 2, 2, 1])\n",
    "print(params)"
   ]
  },
  {
   "cell_type": "markdown",
   "metadata": {},
   "source": [
    "## 正向传播"
   ]
  },
  {
   "cell_type": "code",
   "execution_count": 7,
   "metadata": {},
   "outputs": [],
   "source": [
    "# Z[l] = W[l]A[l-1] + b[l]\n",
    "def linear_forward(A, W, b):\n",
    "    Z = np.dot(W, A) + b\n",
    "    \n",
    "    cache = (A, W, b)\n",
    "    return Z, cache"
   ]
  },
  {
   "cell_type": "code",
   "execution_count": 8,
   "metadata": {},
   "outputs": [
    {
     "name": "stdout",
     "output_type": "stream",
     "text": [
      "[[ 3.26295337 -1.23429987]]\n"
     ]
    }
   ],
   "source": [
    "A, W, b = linear_forward_test_case()\n",
    "\n",
    "Z, cache = linear_forward(A, W, b)\n",
    "print(Z)"
   ]
  },
  {
   "cell_type": "code",
   "execution_count": 9,
   "metadata": {},
   "outputs": [],
   "source": [
    "# A[l] = g[l](Z[l])\n",
    "def linear_activation_forward(A_prev, W, b, act):\n",
    "    if act == \"sigmoid\":\n",
    "        Z, lnr_cache = linear_forward(A_prev, W, b)\n",
    "        A, act_cache = sigmoid(Z)\n",
    "    elif act == \"relu\":\n",
    "        Z, lnr_cache = linear_forward(A_prev, W, b)\n",
    "        A, act_cache = relu(Z)\n",
    "    \n",
    "    cache = (lnr_cache, act_cache)\n",
    "    return A, cache"
   ]
  },
  {
   "cell_type": "code",
   "execution_count": 10,
   "metadata": {},
   "outputs": [
    {
     "name": "stdout",
     "output_type": "stream",
     "text": [
      "sigmoid A=[[0.96890023 0.11013289]]\n",
      "relu A=[[3.43896131 0.        ]]\n"
     ]
    }
   ],
   "source": [
    "A_prev, W, b = linear_activation_forward_test_case()\n",
    "A, cache = linear_activation_forward(A_prev, W, b, act=\"sigmoid\")\n",
    "print(\"sigmoid A=\"+str(A))\n",
    "A, cache = linear_activation_forward(A_prev, W, b, act=\"relu\")\n",
    "print(\"relu A=\"+str(A))"
   ]
  },
  {
   "cell_type": "code",
   "execution_count": 13,
   "metadata": {},
   "outputs": [],
   "source": [
    "def model_forward(X, params):\n",
    "    caches = []\n",
    "    A = X\n",
    "    L = len(params) // 2\n",
    "    \n",
    "    for l in range(1, L):\n",
    "        A_prev = A\n",
    "        W = params[\"W\"+str(l)]\n",
    "        b = params[\"b\"+str(l)]\n",
    "        A, cache = linear_activation_forward(A_prev, W, b, act=\"relu\")\n",
    "        caches.append(cache)\n",
    "    \n",
    "    AL, cache = linear_activation_forward(A, params[\"W\"+str(L)], params[\"b\"+str(L)], act=\"sigmoid\")\n",
    "    caches.append(cache)\n",
    "    \n",
    "    return AL, caches"
   ]
  },
  {
   "cell_type": "code",
   "execution_count": 14,
   "metadata": {},
   "outputs": [
    {
     "name": "stdout",
     "output_type": "stream",
     "text": [
      "AL = [[0.17007265 0.2524272 ]]\n",
      "caches length: 2\n"
     ]
    }
   ],
   "source": [
    "X, params = L_model_forward_test_case()\n",
    "AL, caches = model_forward(X, params)\n",
    "print(\"AL = \"+str(AL))\n",
    "print(\"caches length: \"+str(len(caches)))"
   ]
  },
  {
   "cell_type": "code",
   "execution_count": null,
   "metadata": {},
   "outputs": [],
   "source": []
  }
 ],
 "metadata": {
  "kernelspec": {
   "display_name": "Python 3",
   "language": "python",
   "name": "python3"
  },
  "language_info": {
   "codemirror_mode": {
    "name": "ipython",
    "version": 3
   },
   "file_extension": ".py",
   "mimetype": "text/x-python",
   "name": "python",
   "nbconvert_exporter": "python",
   "pygments_lexer": "ipython3",
   "version": "3.7.1"
  }
 },
 "nbformat": 4,
 "nbformat_minor": 2
}
